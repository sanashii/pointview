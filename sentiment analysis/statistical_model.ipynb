{
 "cells": [
  {
   "cell_type": "code",
   "execution_count": 1,
   "metadata": {},
   "outputs": [],
   "source": [
    "import os\n",
    "import pandas as pd\n",
    "import seaborn as sns\n",
    "import matplotlib.pyplot as plt\n",
    "from scipy.stats import gaussian_kde"
   ]
  },
  {
   "cell_type": "code",
   "execution_count": null,
   "metadata": {},
   "outputs": [],
   "source": [
    "waterfront_reviews = pd.read_csv(r'processed reviews\\Waterfront_Hotel_and_Casino_processed.csv')\n",
    "bai_reviews = pd.read_csv(r'processed reviews\\bai_Hotel_processed.csv')\n",
    "\n",
    "# Define a function to plot KDE and peak\n",
    "def plot_sa_distribution(df, hotel_name):\n",
    "    plt.figure(figsize=(10, 6))\n",
    "    sns.kdeplot(df['SA'], shade=True, color='blue', label='SA Distribution')\n",
    "    plt.title(f'Sentiment Analysis Distribution for {hotel_name}')\n",
    "    plt.xlabel('Sentiment Analysis Score')\n",
    "    plt.ylabel('Density')\n",
    "\n",
    "    # Calculate KDE and find peak\n",
    "    kde = gaussian_kde(df['SA'])\n",
    "    density_values = kde(df['SA'])\n",
    "    peak_value = df['SA'][density_values.argmax()]\n",
    "    plt.axvline(x=peak_value, linestyle='--', color='green', label=f'Peak: {round(peak_value, 2)}')\n",
    "\n",
    "    # Add quartile lines\n",
    "    quartile_ranges = {'Q1': (-1.0, -0.5), 'Q2': (-0.5, 0.0), 'Q3': (0.0, 0.5), 'Q4': (0.5, 1.0)}\n",
    "    for label, (start, end) in quartile_ranges.items():\n",
    "        plt.axvline(x=start, linestyle='--', color='red', label=f'{label}: {start} - {end}')\n",
    "        plt.axvline(x=end, linestyle='--', color='red')\n",
    "\n",
    "    plt.legend()\n",
    "    plt.grid(True)\n",
    "    plt.show()\n",
    "\n",
    "    return peak_value\n",
    "\n",
    "def save_results(hotel_name, peak_value):\n",
    "    output_folder = \"statistical model results\"\n",
    "    if not os.path.exists(output_folder):\n",
    "        os.makedirs(output_folder)\n",
    "    \n",
    "    # Create a file path for saving the results\n",
    "    output_filename = os.path.join(output_folder, f\"{hotel_name}_results.txt\")\n",
    "\n",
    "    # Determine which quartile the peak belongs to\n",
    "    quartile_ranges = {'Q1': (-1.0, -0.5), 'Q2': (-0.5, 0.0), 'Q3': (0.0, 0.5), 'Q4': (0.5, 1.0)}\n",
    "    peak_quartile = None\n",
    "    for label, (start, end) in quartile_ranges.items():\n",
    "        if start <= peak_value <= end:\n",
    "            peak_quartile = label\n",
    "            break\n",
    "\n",
    "    # Open the file in write mode and save the results\n",
    "    with open(output_filename, \"w\") as file:\n",
    "        file.write(f\"{hotel_name} Peak Value: {peak_value}\\n\")\n",
    "        file.write(f\"{hotel_name} Peak Quartile Classification: {peak_quartile}\\n\")\n",
    "\n",
    "# Plot KDE and peak for bai Hotel & Waterfront \n",
    "bai_peak_value = plot_sa_distribution(bai_reviews, 'bai Hotel')\n",
    "waterfront_peak_value = plot_sa_distribution(waterfront_reviews, 'Waterfront Hotel')\n",
    "\n",
    "# Save the results\n",
    "save_results(\"bai Hotel\", bai_peak_value)\n",
    "save_results(\"Waterfront Hotel\", waterfront_peak_value)"
   ]
  }
 ],
 "metadata": {
  "kernelspec": {
   "display_name": "Python 3",
   "language": "python",
   "name": "python3"
  },
  "language_info": {
   "codemirror_mode": {
    "name": "ipython",
    "version": 3
   },
   "file_extension": ".py",
   "mimetype": "text/x-python",
   "name": "python",
   "nbconvert_exporter": "python",
   "pygments_lexer": "ipython3",
   "version": "3.12.5"
  }
 },
 "nbformat": 4,
 "nbformat_minor": 2
}
