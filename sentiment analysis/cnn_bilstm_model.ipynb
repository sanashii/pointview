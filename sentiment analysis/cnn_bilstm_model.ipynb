{
 "cells": [
  {
   "cell_type": "markdown",
   "metadata": {},
   "source": [
    "# NOTE!!!\n",
    "- This is still in the context of tripadvisor reviews of waterfront\n",
    "- when the datasets are complete (i.e. naa na ang data from other sites sa kana nga hotel), kay cleaning & preprocessing of data should be adjusted when loading the different .csv files and the naming convention sa preprocessed reviews.\n",
    "- ^^ Example: `preprocessed_waterfront_reviews_booking.npz`, `preprocessed_waterfront_reviews_agoda.npz`, `preprocessed_waterfront_reviews_tripadvisor.npz`, `preprocessed_waterfront_reviews_klook.npz`\n",
    "- for automation of processes, add a feat where you just type in the name of the hotel and it will automatically search and load up the necessary CSVs for that inputted hotel.\n",
    "- all ratings will be normalized before sentiment analysis to a [0, 1] range\n",
    "\n",
    "## Current issues:\n",
    "- model is abnormal. it outputs all 1.0 no matter the negative threshold.\n",
    "- model needs work"
   ]
  },
  {
   "cell_type": "markdown",
   "metadata": {},
   "source": [
    "## Importing libraries"
   ]
  },
  {
   "cell_type": "code",
   "execution_count": 45,
   "metadata": {},
   "outputs": [
    {
     "name": "stderr",
     "output_type": "stream",
     "text": [
      "[nltk_data] Downloading package stopwords to\n",
      "[nltk_data]     C:\\Users\\andyb\\AppData\\Roaming\\nltk_data...\n",
      "[nltk_data]   Package stopwords is already up-to-date!\n"
     ]
    },
    {
     "data": {
      "text/plain": [
       "True"
      ]
     },
     "execution_count": 45,
     "metadata": {},
     "output_type": "execute_result"
    }
   ],
   "source": [
    "from sklearn.model_selection import train_test_split\n",
    "from sklearn.metrics import confusion_matrix, classification_report\n",
    "from sklearn.preprocessing import MultiLabelBinarizer\n",
    "from sklearn.preprocessing import MinMaxScaler\n",
    "import pandas as pd\n",
    "import numpy as np\n",
    "import os\n",
    "from langdetect import detect\n",
    "import re\n",
    "from bs4 import BeautifulSoup\n",
    "import nltk\n",
    "from nltk.corpus import stopwords\n",
    "import tensorflow as tf\n",
    "from tensorflow.keras.preprocessing.text import Tokenizer\n",
    "from tensorflow.keras.preprocessing.sequence import pad_sequences\n",
    "from tensorflow.keras.layers import Input, Embedding, Conv1D, MaxPooling1D, LSTM, Bidirectional, Dense, Flatten, Dropout\n",
    "from tensorflow.keras.models import Model\n",
    "import seaborn as sns\n",
    "import matplotlib.pyplot as plt\n",
    "from scipy.stats import gaussian_kde\n",
    "from statsmodels.nonparametric.kde import KDEUnivariate\n",
    "import glob\n",
    "from sklearn.utils import class_weight\n",
    "\n",
    "\n",
    "# Download stopwords\n",
    "nltk.download('stopwords')"
   ]
  },
  {
   "cell_type": "markdown",
   "metadata": {},
   "source": [
    "## Cleaning & Preprocessing of data"
   ]
  },
  {
   "cell_type": "code",
   "execution_count": 46,
   "metadata": {},
   "outputs": [
    {
     "name": "stdout",
     "output_type": "stream",
     "text": [
      "                                         Review Text  Rating Review Date\n",
      "0  happy recently concluded graduation event wate...    1.00    Jun 2022\n",
      "1  always book hotel hotel staff friendly always ...    0.75    Jan 2020\n",
      "2  stayed 5 nights waterfront hotel business trip...    1.00    Jan 2020\n",
      "3  hotel aok breakfast pool familys primary reaso...    0.50    Jan 2023\n",
      "4  attended event held hotel decided overnight st...    0.50    Mar 2022\n",
      "x_train shape: (1205, 200)\n",
      "x_test shape: (517, 200)\n",
      "y_train shape: (1205,)\n",
      "y_test shape: (517,)\n"
     ]
    },
    {
     "name": "stderr",
     "output_type": "stream",
     "text": [
      "C:\\Users\\andyb\\AppData\\Local\\Temp\\ipykernel_31152\\1651284805.py:43: MarkupResemblesLocatorWarning: The input looks more like a filename than markup. You may want to open this file and pass the filehandle into Beautiful Soup.\n",
      "  hotel_reviews['Review Text'] = hotel_reviews['Review Text'].apply(lambda x: BeautifulSoup(x, 'html.parser').get_text())\n"
     ]
    }
   ],
   "source": [
    "# Constants\n",
    "VOCAB_SIZE = 10000\n",
    "EMBEDDING_DIM = 100\n",
    "MAX_SEQUENCE_LENGTH = 200\n",
    "BATCH_SIZE = 32\n",
    "EPOCHS = 10\n",
    "\n",
    "# Load the dataset\n",
    "hotel_reviews_path = r\"C:\\Users\\andyb\\Desktop\\Coding Files\\PointView\\datasets\\tripadvisor\\1_Waterfront-Cebu-City-Hotel-Casino.csv\"\n",
    "hotel_reviews = pd.read_csv(hotel_reviews_path)\n",
    "\n",
    "# Remove irrelevant columns\n",
    "columns_to_keep = ['Review Text', 'Rating', 'Review Date']\n",
    "hotel_reviews = hotel_reviews[columns_to_keep]\n",
    "\n",
    "# Remove missing values\n",
    "hotel_reviews.dropna(subset=['Review Text', 'Rating'], inplace=True)\n",
    "\n",
    "# Extract numeric rating from textual ratings (if necessary)\n",
    "def extract_numeric_rating(rating):\n",
    "    if isinstance(rating, str):\n",
    "        match = re.search(r'(\\d+(\\.\\d+)?)', rating)\n",
    "        if match:\n",
    "            return float(match.group(1))\n",
    "    return rating\n",
    "\n",
    "hotel_reviews['Rating'] = hotel_reviews['Rating'].apply(extract_numeric_rating)\n",
    "\n",
    "# Normalize ratings to a common scale (0 to 1)\n",
    "scaler = MinMaxScaler(feature_range=(0, 1))\n",
    "hotel_reviews['Rating'] = scaler.fit_transform(hotel_reviews[['Rating']])\n",
    "\n",
    "# Language detection and filtering for English reviews\n",
    "def is_english(text):\n",
    "    try:\n",
    "        return detect(text) == 'en'\n",
    "    except:\n",
    "        return False\n",
    "\n",
    "hotel_reviews = hotel_reviews[hotel_reviews['Review Text'].apply(is_english)]\n",
    "\n",
    "# Remove HTML tags\n",
    "hotel_reviews['Review Text'] = hotel_reviews['Review Text'].apply(lambda x: BeautifulSoup(x, 'html.parser').get_text())\n",
    "\n",
    "# Remove duplicates\n",
    "hotel_reviews.drop_duplicates(subset=['Review Text'], inplace=True)\n",
    "\n",
    "# Text preprocessing: convert to lowercase, remove punctuation, and stopwords\n",
    "stop_words = set(stopwords.words('english'))\n",
    "\n",
    "def preprocess_text(text):\n",
    "    # Convert to lowercase\n",
    "    text = text.lower()\n",
    "    # Remove punctuation\n",
    "    text = re.sub(r'[^\\w\\s]', '', text)\n",
    "    # Remove stopwords\n",
    "    text = ' '.join([word for word in text.split() if word not in stop_words])\n",
    "    return text\n",
    "\n",
    "hotel_reviews['Review Text'] = hotel_reviews['Review Text'].apply(preprocess_text)\n",
    "\n",
    "# Verify the preprocessing steps\n",
    "print(hotel_reviews.head())\n",
    "\n",
    "# Tokenize and pad sequences\n",
    "tokenizer = Tokenizer(num_words=VOCAB_SIZE)\n",
    "tokenizer.fit_on_texts(hotel_reviews['Review Text'])\n",
    "sequences = tokenizer.texts_to_sequences(hotel_reviews['Review Text'])\n",
    "padded_sequences = pad_sequences(sequences, maxlen=MAX_SEQUENCE_LENGTH)\n",
    "\n",
    "# Prepare labels\n",
    "labels = hotel_reviews['Rating'].values\n",
    "\n",
    "# Split data into training and testing sets (70/30)\n",
    "x_train, x_test, y_train, y_test = train_test_split(padded_sequences, labels, test_size=0.3, random_state=42)\n",
    "\n",
    "# Create the processed reviews folder if it doesn't exist\n",
    "output_dir = r\"C:\\Users\\andyb\\Desktop\\Coding Files\\PointView\\datasets\\processed_reviews\"\n",
    "os.makedirs(output_dir, exist_ok=True)\n",
    "\n",
    "# Save the preprocessed and vectorized dataset along with indices\n",
    "output_path = os.path.join(output_dir, \"preprocessed_waterfront_reviews.npz\")\n",
    "np.savez_compressed(output_path, x_train=x_train, x_test=x_test, y_train=y_train, y_test=y_test, x_test_indices=np.arange(len(x_test)))\n",
    "\n",
    "# Verify shapes\n",
    "print(f\"x_train shape: {x_train.shape}\")\n",
    "print(f\"x_test shape: {x_test.shape}\")\n",
    "print(f\"y_train shape: {y_train.shape}\")\n",
    "print(f\"y_test shape: {y_test.shape}\")"
   ]
  },
  {
   "cell_type": "markdown",
   "metadata": {},
   "source": [
    "## Data preparation"
   ]
  },
  {
   "cell_type": "code",
   "execution_count": 47,
   "metadata": {},
   "outputs": [
    {
     "name": "stdout",
     "output_type": "stream",
     "text": [
      "x_train shape: (1205, 200)\n",
      "x_test shape: (517, 200)\n",
      "y_train shape: (1205,)\n",
      "y_test shape: (517,)\n",
      "x_train_aspects shape: (6038, 200)\n",
      "x_val_aspects shape: (2588, 200)\n",
      "y_train_aspects shape: (6038, 8)\n",
      "y_val_aspects shape: (2588, 8)\n"
     ]
    }
   ],
   "source": [
    "# Path to the preprocessed and vectorized dataset\n",
    "preprocessed_data_path = r\"C:\\Users\\andyb\\Desktop\\Coding Files\\PointView\\datasets\\processed_reviews\\preprocessed_waterfront_reviews.npz\"\n",
    "\n",
    "# Verify and load clean and preprocessed hotel review data\n",
    "if not os.path.exists(preprocessed_data_path):\n",
    "    raise FileNotFoundError(f\"File not found: {preprocessed_data_path}\")\n",
    "\n",
    "# Load the preprocessed data\n",
    "data = np.load(preprocessed_data_path)\n",
    "x_train = data['x_train']\n",
    "x_test = data['x_test']\n",
    "y_train = data['y_train']\n",
    "y_test = data['y_test']\n",
    "\n",
    "# Verify shapes\n",
    "print(f\"x_train shape: {x_train.shape}\")\n",
    "print(f\"x_test shape: {x_test.shape}\")\n",
    "print(f\"y_train shape: {y_train.shape}\")\n",
    "print(f\"y_test shape: {y_test.shape}\")\n",
    "\n",
    "# Load aspect data from all CSV files\n",
    "aspect_files = glob.glob(r\"C:\\Users\\andyb\\Desktop\\Coding Files\\PointView\\datasets\\aspect-based\\*.csv\")\n",
    "aspect_reviews = []\n",
    "aspect_labels = []\n",
    "\n",
    "for file in aspect_files:\n",
    "    df = pd.read_csv(file)\n",
    "    aspect_reviews.extend(df['Opinion'].tolist())\n",
    "    df['Classification'] = df['Classification'].fillna('').astype(str)\n",
    "    aspect_labels.extend(df['Classification'].apply(lambda x: x.split(':') if ':' in x else [x]).tolist())\n",
    "\n",
    "# Tokenize and pad sequences for aspect reviews\n",
    "tokenizer = Tokenizer(num_words=VOCAB_SIZE)\n",
    "tokenizer.fit_on_texts(aspect_reviews)\n",
    "sequences_aspect = tokenizer.texts_to_sequences(aspect_reviews)\n",
    "aspect_data = pad_sequences(sequences_aspect, maxlen=MAX_SEQUENCE_LENGTH)\n",
    "\n",
    "# Convert aspect labels to one-hot encoded format\n",
    "mlb = MultiLabelBinarizer()\n",
    "aspect_labels = mlb.fit_transform(aspect_labels)\n",
    "\n",
    "# Split aspect data into training and validation sets (purely for training)\n",
    "x_train_aspects, x_val_aspects, y_train_aspects, y_val_aspects = train_test_split(aspect_data, aspect_labels, test_size=0.3, random_state=42)\n",
    "\n",
    "# Check the shapes of the split data\n",
    "print(f\"x_train_aspects shape: {x_train_aspects.shape}\")\n",
    "print(f\"x_val_aspects shape: {x_val_aspects.shape}\")\n",
    "print(f\"y_train_aspects shape: {y_train_aspects.shape}\")\n",
    "print(f\"y_val_aspects shape: {y_val_aspects.shape}\")\n"
   ]
  },
  {
   "cell_type": "markdown",
   "metadata": {},
   "source": [
    "## EDA"
   ]
  },
  {
   "cell_type": "code",
   "execution_count": 48,
   "metadata": {},
   "outputs": [
    {
     "data": {
      "image/png": "[encoded data removed]",
      "text/plain": [
       "<Figure size 640x480 with 1 Axes>"
      ]
     },
     "metadata": {},
     "output_type": "display_data"
    },
    {
     "data": {
      "image/png": "[encoded data removed]",
      "text/plain": [
       "<Figure size 640x480 with 1 Axes>"
      ]
     },
     "metadata": {},
     "output_type": "display_data"
    },
    {
     "data": {
      "image/png": "[encoded data removed]",
      "text/plain": [
       "<Figure size 640x480 with 1 Axes>"
      ]
     },
     "metadata": {},
     "output_type": "display_data"
    }
   ],
   "source": [
    "#* NOTE: for EDA purposes only\n",
    "review_lengths = [len(review.split()) for review in aspect_reviews]\n",
    "plt.hist(review_lengths, bins=50)\n",
    "plt.title('Aspect Review Lengths')\n",
    "plt.xlabel('Review Length (in words)')\n",
    "plt.ylabel('Frequency')\n",
    "plt.show()\n",
    "\n",
    "\n",
    "plt.hist(y_train, bins=10, edgecolor='k')\n",
    "plt.title(\"Distribution of Ratings in Training Data\")\n",
    "plt.xlabel(\"Rating\")\n",
    "plt.ylabel(\"Frequency\")\n",
    "plt.show()\n",
    "\n",
    "# Plot the distribution of sentiment scores\n",
    "plt.hist(y_train, bins=20, alpha=0.5, label='Training Data')\n",
    "plt.hist(y_test, bins=20, alpha=0.5, label='Test Data')\n",
    "plt.legend(loc='upper right')\n",
    "plt.title('Distribution of Sentiment Scores')\n",
    "plt.xlabel('Sentiment Score')\n",
    "plt.ylabel('Frequency')\n",
    "plt.show()"
   ]
  },
  {
   "cell_type": "markdown",
   "metadata": {},
   "source": [
    "## Model training part"
   ]
  },
  {
   "cell_type": "code",
   "execution_count": 50,
   "metadata": {},
   "outputs": [
    {
     "name": "stdout",
     "output_type": "stream",
     "text": [
      "Training the model using aspect-based data for aspect prediction...\n",
      "Epoch 1/10\n"
     ]
    },
    {
     "name": "stderr",
     "output_type": "stream",
     "text": [
      "c:\\Users\\andyb\\AppData\\Local\\Programs\\Python\\Python312\\Lib\\site-packages\\keras\\src\\layers\\core\\embedding.py:90: UserWarning: Argument `input_length` is deprecated. Just remove it.\n",
      "  warnings.warn(\n"
     ]
    },
    {
     "name": "stdout",
     "output_type": "stream",
     "text": [
      "\u001b[1m189/189\u001b[0m \u001b[32m━━━━━━━━━━━━━━━━━━━━\u001b[0m\u001b[37m\u001b[0m \u001b[1m9s\u001b[0m 33ms/step - aspect_output_accuracy: 0.2251 - loss: 20.6094 - sentiment_output_mae: 0.0360 - val_aspect_output_accuracy: 0.0684 - val_loss: 32.6128 - val_sentiment_output_mae: 0.0000e+00\n",
      "Epoch 2/10\n",
      "\u001b[1m189/189\u001b[0m \u001b[32m━━━━━━━━━━━━━━━━━━━━\u001b[0m\u001b[37m\u001b[0m \u001b[1m7s\u001b[0m 36ms/step - aspect_output_accuracy: 0.2356 - loss: 53.9804 - sentiment_output_mae: 0.0000e+00 - val_aspect_output_accuracy: 0.0954 - val_loss: 43.0654 - val_sentiment_output_mae: 0.0000e+00\n",
      "Epoch 3/10\n",
      "\u001b[1m189/189\u001b[0m \u001b[32m━━━━━━━━━━━━━━━━━━━━\u001b[0m\u001b[37m\u001b[0m \u001b[1m7s\u001b[0m 36ms/step - aspect_output_accuracy: 0.2357 - loss: 65.3233 - sentiment_output_mae: 0.0000e+00 - val_aspect_output_accuracy: 0.2581 - val_loss: 57.7982 - val_sentiment_output_mae: 0.0000e+00\n",
      "Epoch 4/10\n",
      "\u001b[1m189/189\u001b[0m \u001b[32m━━━━━━━━━━━━━━━━━━━━\u001b[0m\u001b[37m\u001b[0m \u001b[1m7s\u001b[0m 38ms/step - aspect_output_accuracy: 0.2407 - loss: 98.5903 - sentiment_output_mae: 0.0000e+00 - val_aspect_output_accuracy: 0.4826 - val_loss: 72.6451 - val_sentiment_output_mae: 0.0000e+00\n",
      "Training the model using hotel reviews for general sentiment prediction...\n",
      "Epoch 1/10\n",
      "\u001b[1m38/38\u001b[0m \u001b[32m━━━━━━━━━━━━━━━━━━━━\u001b[0m\u001b[37m\u001b[0m \u001b[1m3s\u001b[0m 51ms/step - aspect_output_accuracy: 0.0191 - loss: 2.1024 - sentiment_output_mae: 0.6830 - val_aspect_output_accuracy: 0.0793 - val_loss: 0.1512 - val_sentiment_output_mae: 0.2751\n",
      "Epoch 2/10\n",
      "\u001b[1m38/38\u001b[0m \u001b[32m━━━━━━━━━━━━━━━━━━━━\u001b[0m\u001b[37m\u001b[0m \u001b[1m1s\u001b[0m 39ms/step - aspect_output_accuracy: 0.0460 - loss: 0.5856 - sentiment_output_mae: 0.2778 - val_aspect_output_accuracy: 0.0000e+00 - val_loss: 0.1512 - val_sentiment_output_mae: 0.2751\n",
      "Epoch 3/10\n",
      "\u001b[1m38/38\u001b[0m \u001b[32m━━━━━━━━━━━━━━━━━━━━\u001b[0m\u001b[37m\u001b[0m \u001b[1m2s\u001b[0m 41ms/step - aspect_output_accuracy: 0.1072 - loss: 0.5873 - sentiment_output_mae: 0.2776 - val_aspect_output_accuracy: 0.0000e+00 - val_loss: 0.1512 - val_sentiment_output_mae: 0.2751\n",
      "Epoch 4/10\n",
      "\u001b[1m38/38\u001b[0m \u001b[32m━━━━━━━━━━━━━━━━━━━━\u001b[0m\u001b[37m\u001b[0m \u001b[1m2s\u001b[0m 41ms/step - aspect_output_accuracy: 0.1602 - loss: 0.5916 - sentiment_output_mae: 0.2788 - val_aspect_output_accuracy: 0.0000e+00 - val_loss: 0.1512 - val_sentiment_output_mae: 0.2751\n"
     ]
    },
    {
     "data": {
      "image/png": "[encoded data removed]",
      "text/plain": [
       "<Figure size 1200x600 with 1 Axes>"
      ]
     },
     "metadata": {},
     "output_type": "display_data"
    }
   ],
   "source": [
    "# Calculate class weights\n",
    "class_weights = class_weight.compute_class_weight('balanced', \n",
    "                                                  classes=np.unique(y_train), \n",
    "                                                  y=y_train)\n",
    "\n",
    "# Create a dictionary to use in model training\n",
    "class_weights_dict = {i: class_weights[i] for i in range(len(class_weights))}\n",
    "\n",
    "# Compute sample weights\n",
    "sample_weights = np.array([class_weights_dict[int(y)] for y in y_train])\n",
    "\n",
    "# Define the model architecture with Dropout\n",
    "input_text = Input(shape=(MAX_SEQUENCE_LENGTH,), dtype='int32')\n",
    "embedding = Embedding(input_dim=VOCAB_SIZE, output_dim=EMBEDDING_DIM, input_length=MAX_SEQUENCE_LENGTH)(input_text)\n",
    "conv = Conv1D(filters=128, kernel_size=5, activation='relu')(embedding)\n",
    "pool = MaxPooling1D(pool_size=2)(conv)\n",
    "bi_lstm = Bidirectional(LSTM(64, return_sequences=True))(pool)\n",
    "dropout = Dropout(0.5)(bi_lstm)\n",
    "flat = Flatten()(dropout)\n",
    "\n",
    "# Output layer for general sentiment\n",
    "sentiment_output = Dense(1, activation='sigmoid', name='sentiment_output')(flat)\n",
    "\n",
    "# Output layer for aspect-based sentiment\n",
    "aspect_output = Dense(len(mlb.classes_), activation='softmax', name='aspect_output')(flat)\n",
    "\n",
    "# Define the model\n",
    "model = Model(inputs=input_text, outputs=[sentiment_output, aspect_output])\n",
    "\n",
    "# Compile the model with mean squared error loss for sentiment analysis\n",
    "model.compile(optimizer=tf.keras.optimizers.Adam(learning_rate=0.001),\n",
    "              loss={'sentiment_output': 'mse', 'aspect_output': 'categorical_crossentropy'},\n",
    "              metrics={'sentiment_output': 'mae', 'aspect_output': 'accuracy'})\n",
    "\n",
    "# Callback to monitor training\n",
    "callbacks = [\n",
    "    tf.keras.callbacks.EarlyStopping(monitor='val_loss', patience=3, restore_best_weights=True),\n",
    "    tf.keras.callbacks.ModelCheckpoint(filepath='model_checkpoint.weights.h5', save_best_only=True, save_weights_only=True)\n",
    "]\n",
    "\n",
    "# Train the model using aspect-based data for aspect prediction\n",
    "print(\"Training the model using aspect-based data for aspect prediction...\")\n",
    "model.fit(x_train_aspects,\n",
    "          {'sentiment_output': np.zeros(len(x_train_aspects)), 'aspect_output': y_train_aspects},\n",
    "          validation_data=(x_val_aspects, {'sentiment_output': np.zeros(len(x_val_aspects)), 'aspect_output': y_val_aspects}),\n",
    "          epochs=EPOCHS,\n",
    "          batch_size=BATCH_SIZE,\n",
    "          callbacks=callbacks)\n",
    "\n",
    "# Train the model using hotel reviews for general sentiment prediction\n",
    "print(\"Training the model using hotel reviews for general sentiment prediction...\")\n",
    "history = model.fit(x_train,\n",
    "                    {'sentiment_output': y_train, 'aspect_output': np.zeros((len(x_train), len(mlb.classes_)))},\n",
    "                    validation_data=(x_test, {'sentiment_output': y_test, 'aspect_output': np.zeros((len(x_test), len(mlb.classes_)))}),\n",
    "                    epochs=EPOCHS,\n",
    "                    batch_size=BATCH_SIZE,\n",
    "                    callbacks=callbacks,\n",
    "                    sample_weight=sample_weights)\n",
    "\n",
    "# Plot training & validation loss values\n",
    "plt.figure(figsize=(12, 6))\n",
    "plt.plot(history.history['loss'], label='Training Loss')\n",
    "plt.plot(history.history['val_loss'], label='Validation Loss')\n",
    "plt.title('Model Loss')\n",
    "plt.xlabel('Epoch')\n",
    "plt.ylabel('Loss')\n",
    "plt.legend()\n",
    "plt.show()"
   ]
  },
  {
   "cell_type": "markdown",
   "metadata": {},
   "source": [
    "## Model testing"
   ]
  },
  {
   "cell_type": "code",
   "execution_count": 51,
   "metadata": {},
   "outputs": [
    {
     "name": "stdout",
     "output_type": "stream",
     "text": [
      "\u001b[1m17/17\u001b[0m \u001b[32m━━━━━━━━━━━━━━━━━━━━\u001b[0m\u001b[37m\u001b[0m \u001b[1m1s\u001b[0m 23ms/step\n",
      "No negative reviews identified.\n"
     ]
    }
   ],
   "source": [
    "# Predict general sentiment on the test set\n",
    "predictions = model.predict(x_test)\n",
    "sentiment_predictions = predictions[0]  # General sentiment output\n",
    "\n",
    "# Save sentiment predictions to a file\n",
    "output_folder = r\"C:\\Users\\andyb\\Desktop\\Coding Files\\PointView\\datasets\\processed_reviews\\results\"\n",
    "if not os.path.exists(output_folder):\n",
    "    os.makedirs(output_folder)\n",
    "\n",
    "# Save the general sentiment predictions\n",
    "np.savez_compressed(os.path.join(output_folder, \"waterfront_general_sentiment_predictions.npz\"),\n",
    "                    sentiment_predictions=sentiment_predictions)\n",
    "\n",
    "# Identify negative reviews (e.g., sentiment score <= 0.8)\n",
    "negative_threshold = 0.86\n",
    "negative_indices = np.where(sentiment_predictions <= negative_threshold)[0]\n",
    "negative_reviews = x_test[negative_indices]\n",
    "\n",
    "# Check if negative_reviews are sequences or raw text\n",
    "if len(negative_reviews) > 0:\n",
    "    if isinstance(negative_reviews[0], np.ndarray):\n",
    "        # Already tokenized sequences\n",
    "        negative_reviews_padded = pad_sequences(negative_reviews, maxlen=MAX_SEQUENCE_LENGTH)\n",
    "    else:\n",
    "        # Raw text, need tokenization\n",
    "        negative_reviews_sequences = tokenizer.texts_to_sequences(negative_reviews)\n",
    "        negative_reviews_padded = pad_sequences(negative_reviews_sequences, maxlen=MAX_SEQUENCE_LENGTH)\n",
    "\n",
    "    # Perform aspect-based sentiment analysis on the negative reviews\n",
    "    aspect_predictions_negative = model.predict(negative_reviews_padded)[1]\n",
    "\n",
    "    # Save aspect predictions to a file\n",
    "    np.savez_compressed(os.path.join(output_folder, \"aspect_sentiment_predictions.npz\"),\n",
    "                        aspect_predictions_negative=aspect_predictions_negative,\n",
    "                        negative_review_indices=negative_indices)\n",
    "else:\n",
    "    print(\"No negative reviews identified.\")"
   ]
  },
  {
   "cell_type": "markdown",
   "metadata": {},
   "source": [
    "## Checking of.npz file contents"
   ]
  },
  {
   "cell_type": "code",
   "execution_count": 52,
   "metadata": {},
   "outputs": [
    {
     "name": "stdout",
     "output_type": "stream",
     "text": [
      "Contents of the waterfront_general_sentiment_predictions.npz file:\n",
      "['sentiment_predictions']\n",
      "\n",
      "Array Name: sentiment_predictions\n",
      "\n",
      "No values in sentiment_predictions are different from 1.0\n",
      "\n",
      "Contents of the preprocessed_waterfront_reviews.npz file:\n",
      "['x_train', 'x_test', 'y_train', 'y_test', 'x_test_indices']\n",
      "\n",
      "Array Name: x_train\n",
      "   0    1    2    3    4    5    6    7    8    9    ...   190   191   192  \\\n",
      "0    0    0    0    0    0    0    0    0    0    0  ...     8  4894   346   \n",
      "1    0    0    0    0    0    0    0    0    0    0  ...    54  6586   144   \n",
      "2    0    0    0    0    0    0    0    0    0    0  ...  2292   800    92   \n",
      "3    0    0    0    0    0    0    0    0    0    0  ...    96    39    14   \n",
      "4    0    0    0    0    0    0    0    0    0    0  ...   190     4  1217   \n",
      "\n",
      "    193  194   195   196  197   198  199  \n",
      "0     3    4     1  1066  425  4895  536  \n",
      "1    54    4  2843    13  215    66  135  \n",
      "2    15   93   310   172  190    60   22  \n",
      "3  1307   20  1059   724   39    14  277  \n",
      "4   547  124    43   161  659    50  927  \n",
      "\n",
      "[5 rows x 200 columns]\n",
      "\n",
      "Array Name: x_test\n",
      "   0    1    2    3    4    5    6    7    8    9    ...   190   191   192  \\\n",
      "0    0    0    0    0    0    0    0    0    0    0  ...   236     9    23   \n",
      "1    0    0    0    0    0    0    0    0    0    0  ...  6001  1869    93   \n",
      "2    0    0    0    0    0    0    0    0    0    0  ...   188   114   303   \n",
      "3    0    0    0    0    0    0    0    0    0    0  ...  3087   148  2433   \n",
      "4    0    0    0    0    0    0    0    0    0    0  ...     3  1716     7   \n",
      "\n",
      "    193  194   195   196   197   198   199  \n",
      "0    46    4   165    16    88    77    33  \n",
      "1  3214   55   304   255  6002  6003  1149  \n",
      "2    44  133    46    29    77   666     8  \n",
      "3   611   41   968   250    59   216    90  \n",
      "4  2950    8  1607  1025     1     4  4867  \n",
      "\n",
      "[5 rows x 200 columns]\n",
      "\n",
      "Array Name: y_train\n",
      "   y_train\n",
      "0     0.75\n",
      "1     0.50\n",
      "2     1.00\n",
      "3     0.50\n",
      "4     1.00\n",
      "\n",
      "Array Name: y_test\n",
      "   y_test\n",
      "0     1.0\n",
      "1     0.5\n",
      "2     1.0\n",
      "3     0.5\n",
      "4     0.5\n",
      "\n",
      "Array Name: x_test_indices\n",
      "   x_test_indices\n",
      "0               0\n",
      "1               1\n",
      "2               2\n",
      "3               3\n",
      "4               4\n"
     ]
    }
   ],
   "source": [
    "# Load the .npz file\n",
    "general_sentiment_preds_file_path = r\"C:\\Users\\andyb\\Desktop\\Coding Files\\PointView\\datasets\\processed_reviews\\results\\waterfront_general_sentiment_predictions.npz\"\n",
    "general_sentiment_preds_data = np.load(general_sentiment_preds_file_path)\n",
    "\n",
    "preprocessed_reviews_file_path = r\"C:\\Users\\andyb\\Desktop\\Coding Files\\PointView\\datasets\\processed_reviews\\preprocessed_waterfront_reviews.npz\"\n",
    "preprocessed_reviews_data = np.load(preprocessed_reviews_file_path)\n",
    "\n",
    "# Display the contents of the .npz file\n",
    "print(\"Contents of the waterfront_general_sentiment_predictions.npz file:\")\n",
    "print(general_sentiment_preds_data.files)\n",
    "\n",
    "# Convert the arrays to pandas DataFrames for tabular display\n",
    "for array_name in general_sentiment_preds_data.files:\n",
    "    array_data = general_sentiment_preds_data[array_name]\n",
    "    print(f\"\\nArray Name: {array_name}\")\n",
    "    \n",
    "    if array_data.ndim == 1:\n",
    "        df = pd.DataFrame(array_data, columns=[array_name])\n",
    "    else:\n",
    "        df = pd.DataFrame(array_data)\n",
    "    \n",
    "        # Filter and display rows where the values are not 1.0\n",
    "    filtered_df = df[df.iloc[:, 0] != 1.0]\n",
    "    if not filtered_df.empty:\n",
    "        print(f\"\\nFiltered {array_name} values that are not 1.0:\")\n",
    "        print(filtered_df.head())  # Display the first few rows of the filtered DataFrame\n",
    "    else:\n",
    "        print(f\"\\nNo values in {array_name} are different from 1.0\")\n",
    "\n",
    "\n",
    "# Display the contents of the .npz file\n",
    "print(\"\\nContents of the preprocessed_waterfront_reviews.npz file:\")\n",
    "print(preprocessed_reviews_data.files)\n",
    "\n",
    "# Convert the arrays to pandas DataFrames for tabular display\n",
    "for array_name in preprocessed_reviews_data.files:\n",
    "    array_data = preprocessed_reviews_data[array_name]\n",
    "    print(f\"\\nArray Name: {array_name}\")\n",
    "    \n",
    "    if array_data.ndim == 1:\n",
    "        df = pd.DataFrame(array_data, columns=[array_name])\n",
    "    else:\n",
    "        df = pd.DataFrame(array_data)\n",
    "    \n",
    "    print(df.head())  # Display the first few rows of the DataFrame"
   ]
  },
  {
   "cell_type": "markdown",
   "metadata": {},
   "source": [
    "## Statictical Analysis"
   ]
  },
  {
   "cell_type": "code",
   "execution_count": 53,
   "metadata": {},
   "outputs": [
    {
     "name": "stderr",
     "output_type": "stream",
     "text": [
      "C:\\Users\\andyb\\AppData\\Local\\Temp\\ipykernel_31152\\3486472269.py:25: FutureWarning: \n",
      "\n",
      "`shade` is now deprecated in favor of `fill`; setting `fill=True`.\n",
      "This will become an error in seaborn v0.14.0; please update your code.\n",
      "\n",
      "  sns.kdeplot(df['SA'], shade=True, color='blue', label='SA Distribution')\n",
      "c:\\Users\\andyb\\AppData\\Local\\Programs\\Python\\Python312\\Lib\\site-packages\\seaborn\\_oldcore.py:1119: FutureWarning: use_inf_as_na option is deprecated and will be removed in a future version. Convert inf values to NaN before operating instead.\n",
      "  with pd.option_context('mode.use_inf_as_na', True):\n",
      "C:\\Users\\andyb\\AppData\\Local\\Temp\\ipykernel_31152\\3486472269.py:25: UserWarning: Dataset has 0 variance; skipping density estimate. Pass `warn_singular=False` to disable this warning.\n",
      "  sns.kdeplot(df['SA'], shade=True, color='blue', label='SA Distribution')\n"
     ]
    },
    {
     "ename": "RuntimeError",
     "evalue": "Selected KDE bandwidth is 0. Cannot estimate density. Either provide the bandwidth during initialization or use an alternative method.",
     "output_type": "error",
     "traceback": [
      "\u001b[1;31m---------------------------------------------------------------------------\u001b[0m",
      "\u001b[1;31mRuntimeError\u001b[0m                              Traceback (most recent call last)",
      "Cell \u001b[1;32mIn[53], line 72\u001b[0m\n\u001b[0;32m     69\u001b[0m         file\u001b[38;5;241m.\u001b[39mwrite(\u001b[38;5;124mf\u001b[39m\u001b[38;5;124m\"\u001b[39m\u001b[38;5;132;01m{\u001b[39;00mhotel_name\u001b[38;5;132;01m}\u001b[39;00m\u001b[38;5;124m Peak Quartile Classification: \u001b[39m\u001b[38;5;132;01m{\u001b[39;00mpeak_quartile\u001b[38;5;132;01m}\u001b[39;00m\u001b[38;5;130;01m\\n\u001b[39;00m\u001b[38;5;124m\"\u001b[39m)\n\u001b[0;32m     71\u001b[0m \u001b[38;5;66;03m# Plot KDE and peak for Waterfront Hotel\u001b[39;00m\n\u001b[1;32m---> 72\u001b[0m waterfront_peak_value \u001b[38;5;241m=\u001b[39m \u001b[43mplot_sa_distribution\u001b[49m\u001b[43m(\u001b[49m\u001b[43mwaterfront_reviews\u001b[49m\u001b[43m,\u001b[49m\u001b[43m \u001b[49m\u001b[38;5;124;43m'\u001b[39;49m\u001b[38;5;124;43mWaterfront Hotel\u001b[39;49m\u001b[38;5;124;43m'\u001b[39;49m\u001b[43m)\u001b[49m\n\u001b[0;32m     74\u001b[0m \u001b[38;5;66;03m# Save the results\u001b[39;00m\n\u001b[0;32m     75\u001b[0m save_results(\u001b[38;5;124m\"\u001b[39m\u001b[38;5;124mWaterfront Hotel\u001b[39m\u001b[38;5;124m\"\u001b[39m, waterfront_peak_value)\n",
      "Cell \u001b[1;32mIn[53], line 32\u001b[0m, in \u001b[0;36mplot_sa_distribution\u001b[1;34m(df, hotel_name)\u001b[0m\n\u001b[0;32m     30\u001b[0m \u001b[38;5;66;03m# Calculate KDE using statsmodels\u001b[39;00m\n\u001b[0;32m     31\u001b[0m kde \u001b[38;5;241m=\u001b[39m KDEUnivariate(df[\u001b[38;5;124m'\u001b[39m\u001b[38;5;124mSA\u001b[39m\u001b[38;5;124m'\u001b[39m])\n\u001b[1;32m---> 32\u001b[0m \u001b[43mkde\u001b[49m\u001b[38;5;241;43m.\u001b[39;49m\u001b[43mfit\u001b[49m\u001b[43m(\u001b[49m\u001b[43mkernel\u001b[49m\u001b[38;5;241;43m=\u001b[39;49m\u001b[38;5;124;43m'\u001b[39;49m\u001b[38;5;124;43mgau\u001b[39;49m\u001b[38;5;124;43m'\u001b[39;49m\u001b[43m,\u001b[49m\u001b[43m \u001b[49m\u001b[43mbw\u001b[49m\u001b[38;5;241;43m=\u001b[39;49m\u001b[38;5;124;43m'\u001b[39;49m\u001b[38;5;124;43mscott\u001b[39;49m\u001b[38;5;124;43m'\u001b[39;49m\u001b[43m,\u001b[49m\u001b[43m \u001b[49m\u001b[43mgridsize\u001b[49m\u001b[38;5;241;43m=\u001b[39;49m\u001b[38;5;241;43m1000\u001b[39;49m\u001b[43m)\u001b[49m\n\u001b[0;32m     33\u001b[0m density_values \u001b[38;5;241m=\u001b[39m kde\u001b[38;5;241m.\u001b[39mdensity\n\u001b[0;32m     34\u001b[0m support \u001b[38;5;241m=\u001b[39m kde\u001b[38;5;241m.\u001b[39msupport\n",
      "File \u001b[1;32mc:\\Users\\andyb\\AppData\\Local\\Programs\\Python\\Python312\\Lib\\site-packages\\statsmodels\\nonparametric\\kde.py:168\u001b[0m, in \u001b[0;36mKDEUnivariate.fit\u001b[1;34m(self, kernel, bw, fft, weights, gridsize, adjust, cut, clip)\u001b[0m\n\u001b[0;32m    166\u001b[0m         msg \u001b[38;5;241m=\u001b[39m \u001b[38;5;124m\"\u001b[39m\u001b[38;5;124mWeights are not implemented for fft\u001b[39m\u001b[38;5;124m\"\u001b[39m\n\u001b[0;32m    167\u001b[0m         \u001b[38;5;28;01mraise\u001b[39;00m \u001b[38;5;167;01mNotImplementedError\u001b[39;00m(msg)\n\u001b[1;32m--> 168\u001b[0m     density, grid, bw \u001b[38;5;241m=\u001b[39m \u001b[43mkdensityfft\u001b[49m\u001b[43m(\u001b[49m\n\u001b[0;32m    169\u001b[0m \u001b[43m        \u001b[49m\u001b[43mendog\u001b[49m\u001b[43m,\u001b[49m\n\u001b[0;32m    170\u001b[0m \u001b[43m        \u001b[49m\u001b[43mkernel\u001b[49m\u001b[38;5;241;43m=\u001b[39;49m\u001b[43mkernel\u001b[49m\u001b[43m,\u001b[49m\n\u001b[0;32m    171\u001b[0m \u001b[43m        \u001b[49m\u001b[43mbw\u001b[49m\u001b[38;5;241;43m=\u001b[39;49m\u001b[43mbw\u001b[49m\u001b[43m,\u001b[49m\n\u001b[0;32m    172\u001b[0m \u001b[43m        \u001b[49m\u001b[43madjust\u001b[49m\u001b[38;5;241;43m=\u001b[39;49m\u001b[43madjust\u001b[49m\u001b[43m,\u001b[49m\n\u001b[0;32m    173\u001b[0m \u001b[43m        \u001b[49m\u001b[43mweights\u001b[49m\u001b[38;5;241;43m=\u001b[39;49m\u001b[43mweights\u001b[49m\u001b[43m,\u001b[49m\n\u001b[0;32m    174\u001b[0m \u001b[43m        \u001b[49m\u001b[43mgridsize\u001b[49m\u001b[38;5;241;43m=\u001b[39;49m\u001b[43mgridsize\u001b[49m\u001b[43m,\u001b[49m\n\u001b[0;32m    175\u001b[0m \u001b[43m        \u001b[49m\u001b[43mclip\u001b[49m\u001b[38;5;241;43m=\u001b[39;49m\u001b[43mclip\u001b[49m\u001b[43m,\u001b[49m\n\u001b[0;32m    176\u001b[0m \u001b[43m        \u001b[49m\u001b[43mcut\u001b[49m\u001b[38;5;241;43m=\u001b[39;49m\u001b[43mcut\u001b[49m\u001b[43m,\u001b[49m\n\u001b[0;32m    177\u001b[0m \u001b[43m    \u001b[49m\u001b[43m)\u001b[49m\n\u001b[0;32m    178\u001b[0m \u001b[38;5;28;01melse\u001b[39;00m:\n\u001b[0;32m    179\u001b[0m     density, grid, bw \u001b[38;5;241m=\u001b[39m kdensity(\n\u001b[0;32m    180\u001b[0m         endog,\n\u001b[0;32m    181\u001b[0m         kernel\u001b[38;5;241m=\u001b[39mkernel,\n\u001b[1;32m   (...)\u001b[0m\n\u001b[0;32m    187\u001b[0m         cut\u001b[38;5;241m=\u001b[39mcut,\n\u001b[0;32m    188\u001b[0m     )\n",
      "File \u001b[1;32mc:\\Users\\andyb\\AppData\\Local\\Programs\\Python\\Python312\\Lib\\site-packages\\statsmodels\\nonparametric\\kde.py:558\u001b[0m, in \u001b[0;36mkdensityfft\u001b[1;34m(x, kernel, bw, weights, gridsize, adjust, clip, cut, retgrid)\u001b[0m\n\u001b[0;32m    555\u001b[0m     \u001b[38;5;66;03m# user passed a callable custom bandwidth function\u001b[39;00m\n\u001b[0;32m    556\u001b[0m \u001b[38;5;28;01melif\u001b[39;00m \u001b[38;5;28misinstance\u001b[39m(bw, \u001b[38;5;28mstr\u001b[39m):\n\u001b[0;32m    557\u001b[0m     \u001b[38;5;66;03m# if bw is None, select optimal bandwidth for kernel\u001b[39;00m\n\u001b[1;32m--> 558\u001b[0m     bw \u001b[38;5;241m=\u001b[39m \u001b[43mbandwidths\u001b[49m\u001b[38;5;241;43m.\u001b[39;49m\u001b[43mselect_bandwidth\u001b[49m\u001b[43m(\u001b[49m\u001b[43mx\u001b[49m\u001b[43m,\u001b[49m\u001b[43m \u001b[49m\u001b[43mbw\u001b[49m\u001b[43m,\u001b[49m\u001b[43m \u001b[49m\u001b[43mkern\u001b[49m\u001b[43m)\u001b[49m\n\u001b[0;32m    559\u001b[0m     \u001b[38;5;66;03m# will cross-val fit this pattern?\u001b[39;00m\n\u001b[0;32m    560\u001b[0m \u001b[38;5;28;01melse\u001b[39;00m:\n\u001b[0;32m    561\u001b[0m     bw \u001b[38;5;241m=\u001b[39m float_like(bw, \u001b[38;5;124m\"\u001b[39m\u001b[38;5;124mbw\u001b[39m\u001b[38;5;124m\"\u001b[39m)\n",
      "File \u001b[1;32mc:\\Users\\andyb\\AppData\\Local\\Programs\\Python\\Python312\\Lib\\site-packages\\statsmodels\\nonparametric\\bandwidths.py:182\u001b[0m, in \u001b[0;36mselect_bandwidth\u001b[1;34m(x, bw, kernel)\u001b[0m\n\u001b[0;32m    177\u001b[0m \u001b[38;5;28;01mif\u001b[39;00m np\u001b[38;5;241m.\u001b[39many(bandwidth \u001b[38;5;241m==\u001b[39m \u001b[38;5;241m0\u001b[39m):\n\u001b[0;32m    178\u001b[0m     \u001b[38;5;66;03m# eventually this can fall back on another selection criterion.\u001b[39;00m\n\u001b[0;32m    179\u001b[0m     err \u001b[38;5;241m=\u001b[39m \u001b[38;5;124m\"\u001b[39m\u001b[38;5;124mSelected KDE bandwidth is 0. Cannot estimate density. \u001b[39m\u001b[38;5;124m\"\u001b[39m \\\n\u001b[0;32m    180\u001b[0m           \u001b[38;5;124m\"\u001b[39m\u001b[38;5;124mEither provide the bandwidth during initialization or use \u001b[39m\u001b[38;5;124m\"\u001b[39m \\\n\u001b[0;32m    181\u001b[0m           \u001b[38;5;124m\"\u001b[39m\u001b[38;5;124man alternative method.\u001b[39m\u001b[38;5;124m\"\u001b[39m\n\u001b[1;32m--> 182\u001b[0m     \u001b[38;5;28;01mraise\u001b[39;00m \u001b[38;5;167;01mRuntimeError\u001b[39;00m(err)\n\u001b[0;32m    183\u001b[0m \u001b[38;5;28;01melse\u001b[39;00m:\n\u001b[0;32m    184\u001b[0m     \u001b[38;5;28;01mreturn\u001b[39;00m bandwidth\n",
      "\u001b[1;31mRuntimeError\u001b[0m: Selected KDE bandwidth is 0. Cannot estimate density. Either provide the bandwidth during initialization or use an alternative method."
     ]
    },
    {
     "data": {
      "image/png": "[encoded data removed]",
      "text/plain": [
       "<Figure size 1000x600 with 1 Axes>"
      ]
     },
     "metadata": {},
     "output_type": "display_data"
    }
   ],
   "source": [
    "# Load sentiment predictions\n",
    "predictions_path = r\"C:\\Users\\andyb\\Desktop\\Coding Files\\PointView\\datasets\\processed_reviews\\results\\waterfront_general_sentiment_predictions.npz\"\n",
    "data = np.load(predictions_path, allow_pickle=True)  # Enable allow_pickle\n",
    "sentiment_predictions = data['sentiment_predictions']\n",
    "\n",
    "# Load the original review texts from the CSV file\n",
    "original_review_texts_path = r\"C:\\Users\\andyb\\Desktop\\Coding Files\\PointView\\datasets\\tripadvisor\\1_Waterfront-Cebu-City-Hotel-Casino.csv\"\n",
    "if not os.path.exists(original_review_texts_path):\n",
    "    raise FileNotFoundError(f\"File not found: {original_review_texts_path}\")\n",
    "\n",
    "original_reviews_df = pd.read_csv(original_review_texts_path)\n",
    "\n",
    "# Ensure that the lengths match by selecting the corresponding subset of review texts\n",
    "preprocessed_data_path = r\"C:\\Users\\andyb\\Desktop\\Coding Files\\PointView\\datasets\\processed_reviews\\preprocessed_waterfront_reviews.npz\"\n",
    "if len(sentiment_predictions) != len(original_reviews_df['Review Text']):\n",
    "    x_test_indices = np.load(preprocessed_data_path)['x_test_indices']\n",
    "    original_reviews_df = original_reviews_df.iloc[x_test_indices]\n",
    "\n",
    "# Combine sentiment predictions with review texts\n",
    "waterfront_reviews = pd.DataFrame({'Review Text': original_reviews_df['Review Text'], 'SA': sentiment_predictions.flatten()})\n",
    "\n",
    "# Define a function to plot KDE and peak using statsmodels\n",
    "def plot_sa_distribution(df, hotel_name):\n",
    "    plt.figure(figsize=(10, 6))\n",
    "    sns.kdeplot(df['SA'], shade=True, color='blue', label='SA Distribution')\n",
    "    plt.title(f'Sentiment Analysis Distribution for {hotel_name}')\n",
    "    plt.xlabel('Sentiment Analysis Score')\n",
    "    plt.ylabel('Density')\n",
    "\n",
    "    # Calculate KDE using statsmodels\n",
    "    kde = KDEUnivariate(df['SA'])\n",
    "    kde.fit(kernel='gau', bw='scott', gridsize=1000)\n",
    "    density_values = kde.density\n",
    "    support = kde.support\n",
    "    peak_value = support[density_values.argmax()]\n",
    "    plt.axvline(x=peak_value, linestyle='--', color='green', label=f'Peak: {round(peak_value, 2)}')\n",
    "\n",
    "    # Add quartile lines\n",
    "    quartile_ranges = {'Q1': (-1.0, -0.5), 'Q2': (-0.5, 0.0), 'Q3': (0.0, 0.5), 'Q4': (0.5, 1.0)}\n",
    "    for label, (start, end) in quartile_ranges.items():\n",
    "        plt.axvline(x=start, linestyle='--', color='red', label=f'{label}: {start} - {end}')\n",
    "        plt.axvline(x=end, linestyle='--', color='red')\n",
    "\n",
    "    plt.legend()\n",
    "    plt.grid(True)\n",
    "    plt.show()\n",
    "\n",
    "    return peak_value\n",
    "\n",
    "def save_results(hotel_name, peak_value):\n",
    "    output_folder = \"statistical_model_results\"\n",
    "    if not os.path.exists(output_folder):\n",
    "        os.makedirs(output_folder)\n",
    "    \n",
    "    # Create a file path for saving the results\n",
    "    output_filename = os.path.join(output_folder, f\"{hotel_name}_results.txt\")\n",
    "\n",
    "    # Determine which quartile the peak belongs to\n",
    "    quartile_ranges = {'Q1': (-1.0, -0.5), 'Q2': (-0.5, 0.0), 'Q3': (0.0, 0.5), 'Q4': (0.5, 1.0)}\n",
    "    peak_quartile = None\n",
    "    for label, (start, end) in quartile_ranges.items():\n",
    "        if start <= peak_value <= end:\n",
    "            peak_quartile = label\n",
    "            break\n",
    "\n",
    "    # Open the file in write mode and save the results\n",
    "    with open(output_filename, \"w\") as file:\n",
    "        file.write(f\"{hotel_name} Peak Value: {peak_value}\\n\")\n",
    "        file.write(f\"{hotel_name} Peak Quartile Classification: {peak_quartile}\\n\")\n",
    "\n",
    "# Plot KDE and peak for Waterfront Hotel\n",
    "waterfront_peak_value = plot_sa_distribution(waterfront_reviews, 'Waterfront Hotel')\n",
    "\n",
    "# Save the results\n",
    "save_results(\"Waterfront Hotel\", waterfront_peak_value)"
   ]
  },
  {
   "cell_type": "markdown",
   "metadata": {},
   "source": [
    "## Additional EDA"
   ]
  },
  {
   "cell_type": "code",
   "execution_count": null,
   "metadata": {},
   "outputs": [
    {
     "name": "stdout",
     "output_type": "stream",
     "text": [
      "Confusion Matrix:\n",
      "[[  0 152]\n",
      " [  0 365]]\n",
      "\n",
      "Classification Report:\n",
      "              precision    recall  f1-score   support\n",
      "\n",
      "    Negative       0.00      0.00      0.00       152\n",
      "    Positive       0.71      1.00      0.83       365\n",
      "\n",
      "    accuracy                           0.71       517\n",
      "   macro avg       0.35      0.50      0.41       517\n",
      "weighted avg       0.50      0.71      0.58       517\n",
      "\n"
     ]
    },
    {
     "name": "stderr",
     "output_type": "stream",
     "text": [
      "c:\\Users\\andyb\\AppData\\Local\\Programs\\Python\\Python312\\Lib\\site-packages\\sklearn\\metrics\\_classification.py:1497: UndefinedMetricWarning: Precision is ill-defined and being set to 0.0 in labels with no predicted samples. Use `zero_division` parameter to control this behavior.\n",
      "  _warn_prf(average, modifier, f\"{metric.capitalize()} is\", len(result))\n",
      "c:\\Users\\andyb\\AppData\\Local\\Programs\\Python\\Python312\\Lib\\site-packages\\sklearn\\metrics\\_classification.py:1497: UndefinedMetricWarning: Precision is ill-defined and being set to 0.0 in labels with no predicted samples. Use `zero_division` parameter to control this behavior.\n",
      "  _warn_prf(average, modifier, f\"{metric.capitalize()} is\", len(result))\n",
      "c:\\Users\\andyb\\AppData\\Local\\Programs\\Python\\Python312\\Lib\\site-packages\\sklearn\\metrics\\_classification.py:1497: UndefinedMetricWarning: Precision is ill-defined and being set to 0.0 in labels with no predicted samples. Use `zero_division` parameter to control this behavior.\n",
      "  _warn_prf(average, modifier, f\"{metric.capitalize()} is\", len(result))\n"
     ]
    }
   ],
   "source": [
    "# Predict sentiment on the test set\n",
    "sentiment_predictions_binary = (sentiment_predictions > 0.5).astype(int)\n",
    "y_test_binary = (y_test > 0.5).astype(int)\n",
    "\n",
    "# Generate confusion matrix\n",
    "conf_matrix = confusion_matrix(y_test_binary, sentiment_predictions_binary)\n",
    "print(\"Confusion Matrix:\")\n",
    "print(conf_matrix)\n",
    "\n",
    "# Generate classification report\n",
    "class_report = classification_report(y_test_binary, sentiment_predictions_binary, target_names=['Negative', 'Positive'])\n",
    "print(\"\\nClassification Report:\")\n",
    "print(class_report)\n"
   ]
  }
 ],
 "metadata": {
  "kernelspec": {
   "display_name": "Python 3",
   "language": "python",
   "name": "python3"
  },
  "language_info": {
   "codemirror_mode": {
    "name": "ipython",
    "version": 3
   },
   "file_extension": ".py",
   "mimetype": "text/x-python",
   "name": "python",
   "nbconvert_exporter": "python",
   "pygments_lexer": "ipython3",
   "version": "3.12.1"
  }
 },
 "nbformat": 4,
 "nbformat_minor": 2
}
