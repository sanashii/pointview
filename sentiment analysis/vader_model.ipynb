{
 "cells": [
  {
   "cell_type": "markdown",
   "metadata": {},
   "source": [
    "# Imported Libraries"
   ]
  },
  {
   "cell_type": "code",
   "execution_count": 1,
   "metadata": {},
   "outputs": [
    {
     "name": "stderr",
     "output_type": "stream",
     "text": [
      "[nltk_data] Downloading package stopwords to\n",
      "[nltk_data]     C:\\Users\\andyb\\AppData\\Roaming\\nltk_data...\n",
      "[nltk_data]   Package stopwords is already up-to-date!\n",
      "[nltk_data] Downloading package vader_lexicon to\n",
      "[nltk_data]     C:\\Users\\andyb\\AppData\\Roaming\\nltk_data...\n",
      "[nltk_data]   Package vader_lexicon is already up-to-date!\n"
     ]
    },
    {
     "data": {
      "text/plain": [
       "True"
      ]
     },
     "execution_count": 1,
     "metadata": {},
     "output_type": "execute_result"
    }
   ],
   "source": [
    "import string, nltk, os, glob, pickle\n",
    "from bs4 import BeautifulSoup\n",
    "import re, datetime,gensim,spacy\n",
    "import pandas as pd, numpy as np\n",
    "import matplotlib\n",
    "matplotlib.use('agg')\n",
    "import matplotlib.pyplot as plt \n",
    "from nltk.corpus import wordnet\n",
    "from nltk.corpus import stopwords, words \n",
    "from nltk.sentiment import SentimentIntensityAnalyzer\n",
    "import warnings\n",
    "import os\n",
    "warnings.filterwarnings(\"ignore\")\n",
    "nltk.download('stopwords')\n",
    "nltk.download('vader_lexicon')"
   ]
  },
  {
   "cell_type": "code",
   "execution_count": 2,
   "metadata": {},
   "outputs": [],
   "source": [
    "words_english = words.words()\n",
    "REPLACE_BY_SPACE_RE = re.compile('[/(){}\\[\\]\\|@,;]')\n",
    "BAD_SYMBOLS_RE = re.compile('[^0-9a-z #+_]')\n",
    "STOPWORDS = set(stopwords.words('english'))\n",
    "sid = SentimentIntensityAnalyzer() # for VADER SA"
   ]
  },
  {
   "cell_type": "markdown",
   "metadata": {},
   "source": [
    "# Functions"
   ]
  },
  {
   "cell_type": "code",
   "execution_count": 3,
   "metadata": {},
   "outputs": [],
   "source": [
    "## Define Functions #######\n",
    "# def make_bigrams(texts):\n",
    "# \treturn [bigram_mod[doc] for doc in texts]\n",
    "\n",
    "def drop_columns(df): #! APPLICABLE FOR TRIPADVISOR REVIEWS\n",
    "    df.drop_duplicates(subset=['Author', 'Review Text'], inplace=True) # to ensure the uniqueness of reviews by author and text\n",
    "    # Drop columns 'B' and 'C'\n",
    "    columns_to_drop = ['Author', 'Review Date', 'Title', 'Date of Stay', 'Trip Type']\n",
    "    df = df.drop(columns=columns_to_drop)\n",
    "    return df\n",
    "\n",
    "def clean_ratings(df):#! APPLICABLE FOR TRIPADVISOR REVIEWS ATM\n",
    "    # Remove characters other than digits and '.0'\n",
    "    df['Rating'] = df['Rating'].str.extract(r'(\\d+(?:\\.\\d+)?)')  # Extract digits and decimal point\n",
    "    # Convert the cleaned ratings column to integer type\n",
    "    df['Rating'] = df['Rating'].astype(float).astype(int)  # Convert to float first to handle '.0' cases\n",
    "    return df\n",
    "\n",
    "\n",
    "def clean_text(text):\n",
    "    \"\"\"\n",
    "        text: a string\n",
    "        \n",
    "        return: modified initial string\n",
    "    \"\"\"\n",
    "    text = BeautifulSoup(text, \"lxml\").text # HTML decoding\n",
    "    text = text.lower() # lowercase text\n",
    "    text = REPLACE_BY_SPACE_RE.sub(' ', text) # replace REPLACE_BY_SPACE_RE symbols by space in text\n",
    "    text = BAD_SYMBOLS_RE.sub('', text) # delete symbols which are in BAD_SYMBOLS_RE from text\n",
    "    text = ' '.join(word for word in text.split() if word not in STOPWORDS) # delete stopwords from text\n",
    "    return text\n",
    "\n",
    "def analyze_sentiment(text):\n",
    "    '''\n",
    "    Utility function to classify the polarity of a text\n",
    "    using VADER.\n",
    "    '''\n",
    "    # Analyze sentiment using VADER\n",
    "    scores = sid.polarity_scores(text)\n",
    "    \n",
    "    return scores['compound']\n",
    "    # # Classify the sentiment\n",
    "    # if scores['compound'] >= 0.05:\n",
    "    #     return 1  # Positive\n",
    "    # elif scores['compound'] <= -0.05:\n",
    "    #     return -1  # Negative\n",
    "    # else:\n",
    "    #     return 0  # Neutral"
   ]
  },
  {
   "cell_type": "markdown",
   "metadata": {},
   "source": [
    "# Loading of Data + Cleaning + Analysis"
   ]
  },
  {
   "cell_type": "code",
   "execution_count": 4,
   "metadata": {},
   "outputs": [
    {
     "name": "stdout",
     "output_type": "stream",
     "text": [
      "Waterfront Reviews:\n"
     ]
    },
    {
     "data": {
      "text/html": [
       "<div>\n",
       "<style scoped>\n",
       "    .dataframe tbody tr th:only-of-type {\n",
       "        vertical-align: middle;\n",
       "    }\n",
       "\n",
       "    .dataframe tbody tr th {\n",
       "        vertical-align: top;\n",
       "    }\n",
       "\n",
       "    .dataframe thead th {\n",
       "        text-align: right;\n",
       "    }\n",
       "</style>\n",
       "<table border=\"1\" class=\"dataframe\">\n",
       "  <thead>\n",
       "    <tr style=\"text-align: right;\">\n",
       "      <th></th>\n",
       "      <th>Rating</th>\n",
       "      <th>Review Text</th>\n",
       "    </tr>\n",
       "  </thead>\n",
       "  <tbody>\n",
       "    <tr>\n",
       "      <th>0</th>\n",
       "      <td>5</td>\n",
       "      <td>We are just so happy with our recently conclud...</td>\n",
       "    </tr>\n",
       "    <tr>\n",
       "      <th>1</th>\n",
       "      <td>4</td>\n",
       "      <td>We always book ourselves in this Hotel. Hotel ...</td>\n",
       "    </tr>\n",
       "    <tr>\n",
       "      <th>2</th>\n",
       "      <td>5</td>\n",
       "      <td>I stayed for 5 nights at the Waterfront Hotel ...</td>\n",
       "    </tr>\n",
       "    <tr>\n",
       "      <th>3</th>\n",
       "      <td>3</td>\n",
       "      <td>The hotel was A-ok. Breakfast and pool were my...</td>\n",
       "    </tr>\n",
       "    <tr>\n",
       "      <th>4</th>\n",
       "      <td>3</td>\n",
       "      <td>We attended an event that was held at this hot...</td>\n",
       "    </tr>\n",
       "  </tbody>\n",
       "</table>\n",
       "</div>"
      ],
      "text/plain": [
       "   Rating                                        Review Text\n",
       "0       5  We are just so happy with our recently conclud...\n",
       "1       4  We always book ourselves in this Hotel. Hotel ...\n",
       "2       5  I stayed for 5 nights at the Waterfront Hotel ...\n",
       "3       3  The hotel was A-ok. Breakfast and pool were my...\n",
       "4       3  We attended an event that was held at this hot..."
      ]
     },
     "execution_count": 4,
     "metadata": {},
     "output_type": "execute_result"
    }
   ],
   "source": [
    "# Load data from the specified CSV files\n",
    "waterfront_reviews = pd.read_csv(r'..\\datasets\\tripadvisor\\1_Waterfront-Cebu-City-Hotel-Casino.csv')\n",
    "bai_reviews = pd.read_csv(r'..\\datasets\\tripadvisor\\3_bai-Hotel-Cebu.csv')\n",
    "\n",
    "# Display the first few rows of each DataFrame\n",
    "print(\"Waterfront Reviews:\")\n",
    "waterfront_reviews = drop_columns(waterfront_reviews) # should drop columns unnecessary for sentiment analysis\n",
    "waterfront_reviews = clean_ratings(waterfront_reviews) # should clean the ratings column\n",
    "# waterfront_reviews.shape # (1725, 2)\n",
    "# (waterfront_reviews.isnull().sum()/(len(waterfront_reviews)))*100 # no missing values\n",
    "waterfront_reviews.name = 'Waterfront Hotel and Casino'\n",
    "waterfront_reviews.head()\n"
   ]
  },
  {
   "cell_type": "code",
   "execution_count": 5,
   "metadata": {},
   "outputs": [
    {
     "name": "stdout",
     "output_type": "stream",
     "text": [
      "\n",
      "Bai Hotel Reviews:\n"
     ]
    },
    {
     "data": {
      "text/html": [
       "<div>\n",
       "<style scoped>\n",
       "    .dataframe tbody tr th:only-of-type {\n",
       "        vertical-align: middle;\n",
       "    }\n",
       "\n",
       "    .dataframe tbody tr th {\n",
       "        vertical-align: top;\n",
       "    }\n",
       "\n",
       "    .dataframe thead th {\n",
       "        text-align: right;\n",
       "    }\n",
       "</style>\n",
       "<table border=\"1\" class=\"dataframe\">\n",
       "  <thead>\n",
       "    <tr style=\"text-align: right;\">\n",
       "      <th></th>\n",
       "      <th>Rating</th>\n",
       "      <th>Review Text</th>\n",
       "    </tr>\n",
       "  </thead>\n",
       "  <tbody>\n",
       "    <tr>\n",
       "      <th>0</th>\n",
       "      <td>5</td>\n",
       "      <td>Hotel and restaurants were excellent, especial...</td>\n",
       "    </tr>\n",
       "    <tr>\n",
       "      <th>1</th>\n",
       "      <td>5</td>\n",
       "      <td>The Steakhouse, Marbel and Grain was unreal an...</td>\n",
       "    </tr>\n",
       "    <tr>\n",
       "      <th>2</th>\n",
       "      <td>5</td>\n",
       "      <td>Beautiful hotel and incredible staff ! The roo...</td>\n",
       "    </tr>\n",
       "    <tr>\n",
       "      <th>3</th>\n",
       "      <td>5</td>\n",
       "      <td>We dine in and meet this guy Mr Michael Laspin...</td>\n",
       "    </tr>\n",
       "    <tr>\n",
       "      <th>4</th>\n",
       "      <td>5</td>\n",
       "      <td>Nice accommodation. Great hotel and responsive...</td>\n",
       "    </tr>\n",
       "  </tbody>\n",
       "</table>\n",
       "</div>"
      ],
      "text/plain": [
       "   Rating                                        Review Text\n",
       "0       5  Hotel and restaurants were excellent, especial...\n",
       "1       5  The Steakhouse, Marbel and Grain was unreal an...\n",
       "2       5  Beautiful hotel and incredible staff ! The roo...\n",
       "3       5  We dine in and meet this guy Mr Michael Laspin...\n",
       "4       5  Nice accommodation. Great hotel and responsive..."
      ]
     },
     "execution_count": 5,
     "metadata": {},
     "output_type": "execute_result"
    }
   ],
   "source": [
    "print(\"\\nBai Hotel Reviews:\")\n",
    "bai_reviews = drop_columns(bai_reviews)\n",
    "bai_reviews = clean_ratings(bai_reviews)\n",
    "# bai_reviews.shape # (726, 2)\n",
    "# (bai_reviews.isnull().sum()/(len(bai_reviews)))*100 # no missing values\n",
    "bai_reviews.name = 'bai Hotel'\n",
    "bai_reviews.head()"
   ]
  },
  {
   "cell_type": "code",
   "execution_count": 6,
   "metadata": {},
   "outputs": [
    {
     "name": "stdout",
     "output_type": "stream",
     "text": [
      "Analyzing Waterfront Hotel and Casino\n",
      "Percentage of Positive Reviews: 88.92753623188406%\n",
      "Percentage of Neutral Reviews: 0.7536231884057971%\n",
      "Percentage of Negative Reviews: 10.318840579710145%\n",
      "Processed data saved to: processed reviews\\Waterfront_Hotel_and_Casino_processed.csv\n",
      "\n",
      "\n",
      "Analyzing bai Hotel\n",
      "Percentage of Positive Reviews: 98.07162534435261%\n",
      "Percentage of Neutral Reviews: 0.27548209366391185%\n",
      "Percentage of Negative Reviews: 1.6528925619834711%\n",
      "Processed data saved to: processed reviews\\bai_Hotel_processed.csv\n",
      "\n",
      "\n"
     ]
    }
   ],
   "source": [
    "# Load and process data for the specified hotels\n",
    "hotel_dataframes = [waterfront_reviews, bai_reviews]\n",
    "\n",
    "for hotel_df in hotel_dataframes:\n",
    "    # Extract the hotel name from the DataFrame variable name\n",
    "    hotel_name = hotel_df.name\n",
    "    \n",
    "    print('Analyzing', hotel_name)\n",
    "    \n",
    "    # Drop rows with NaN values in 'Review Text' column\n",
    "    hotel_df.dropna(subset=['Review Text'], inplace=True)\n",
    "    \n",
    "    # Apply text cleaning\n",
    "    hotel_df['Review Text'] = hotel_df['Review Text'].apply(clean_text)\n",
    "    \n",
    "    # Perform sentiment analysis and add the results to the DataFrame\n",
    "    hotel_df['SA'] = hotel_df['Review Text'].apply(analyze_sentiment)\n",
    "    \n",
    "    # Calculate percentages of positive, neutral, and negative reviews\n",
    "    pos_texts = int(len(hotel_df[hotel_df['SA'] > 0]))\n",
    "    neu_texts = int(len(hotel_df[hotel_df['SA'] == 0]))\n",
    "    neg_texts = int(len(hotel_df[hotel_df['SA'] < 0]))\n",
    "\n",
    "    print(\"Percentage of Positive Reviews: {}%\".format(pos_texts * 100 / len(hotel_df)))\n",
    "    print(\"Percentage of Neutral Reviews: {}%\".format(neu_texts * 100 / len(hotel_df)))\n",
    "    print(\"Percentage of Negative Reviews: {}%\".format(neg_texts * 100 / len(hotel_df)))\n",
    "    \n",
    "    # Save sentiment analysis results to a CSV file\n",
    "    sentiment_count = pd.DataFrame({\n",
    "        '%Positive': [pos_texts * 100 / len(hotel_df)],\n",
    "        '%Neutral': [neu_texts * 100 / len(hotel_df)],\n",
    "        '%Negative': [neg_texts * 100 / len(hotel_df)]\n",
    "    })\n",
    "    output_folder = r'sentiment count'\n",
    "    if not os.path.exists(output_folder):\n",
    "        os.makedirs(output_folder)\n",
    "    output_filename = os.path.join(output_folder, hotel_name.replace(' ', '_') + '_sentiment_count.csv')\n",
    "    sentiment_count.to_csv(output_filename, index=False)\n",
    "    \n",
    "    # Categorize sentiments\n",
    "    condition = [hotel_df['SA'] < 0, hotel_df['SA'] == 0, hotel_df['SA'] > 0]\n",
    "    choices = ['Negative', 'Neutral', 'Positive']\n",
    "    hotel_df['Sentiment'] = np.select(condition, choices)\n",
    "    \n",
    "    # Save processed data\n",
    "    output_folder = r'processed reviews'\n",
    "    if not os.path.exists(output_folder):\n",
    "        os.makedirs(output_folder)\n",
    "    output_filename = os.path.join(output_folder, hotel_name.replace(' ', '_') + '_processed.csv')\n",
    "    hotel_df.to_csv(output_filename, index=False)\n",
    "    print(\"Processed data saved to:\", output_filename)\n",
    "    print('\\n')\n",
    "    \n",
    "    # to add more analysis or processing steps when necessary\n",
    "    # ...\n",
    "\n",
    "    "
   ]
  }
 ],
 "metadata": {
  "kernelspec": {
   "display_name": "Python 3",
   "language": "python",
   "name": "python3"
  },
  "language_info": {
   "codemirror_mode": {
    "name": "ipython",
    "version": 3
   },
   "file_extension": ".py",
   "mimetype": "text/x-python",
   "name": "python",
   "nbconvert_exporter": "python",
   "pygments_lexer": "ipython3",
   "version": "3.12.1"
  }
 },
 "nbformat": 4,
 "nbformat_minor": 2
}
