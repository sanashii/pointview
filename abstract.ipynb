{
 "cells": [
  {
   "cell_type": "markdown",
   "metadata": {},
   "source": [
    "# Abstract\n",
    "\n",
    "$\\textbf{Keywords:} \\space unified \\space scoring \\space index, machine \\space learning, sentiment \\space analysis, natural \\space language \\space processing$\n",
    "\n",
    "Customer reviews have a significant impact in the cutthroat hospitality industry, but hotel managers have difficulties in navigating the proliferation of internet platforms. The approach put forth in this study is to create \"PointView,\" a single hotel and restaurant score index, by utilizing machine learning (ML) and natural language processing (NLP).\n",
    "\n",
    "\"PointView\" simplifies the analysis of consumer feedback and is positioned at the nexus of information systems, computer science, and information technology. Beyond the classroom, it promises an intuitive user experience that will improve the whole customer experience and enable data-driven decision making.\n",
    "\n",
    "The VADER (Valence Aware Dictionary for Sentiment Reasoning) method was used to do sentiment analysis on data that was taken from Twitter, Agoda, and TripAdvisor using a Python web scraper. Combo score calculations are adjusted to account for establishment preferences. The initiative was successful in achieving its objective of creating a common scoring system for the hospitality and management industries.\n",
    "\n",
    "In summary, this research changes how the industry uses customer feedback. A product called \"PointView\" gives managers more control over how well they comprehend the voice of the client and makes data-driven decisions easier. The effectiveness of the solution is enhanced by modifications made to the current ML and NLP method.\n",
    "\n"
   ]
  },
  {
   "cell_type": "markdown",
   "metadata": {},
   "source": [
    "\\documentclass{article}\n",
    "\n",
    "\\begin{document}\n",
    "\n",
    "\\title{Your Title}\n",
    "\\author{Your Name}\n",
    "\\date{}\n",
    "\\maketitle\n",
    "\n",
    "\\begin{abstract}\n",
    "\\begin{center}\n",
    "\\textbf{Keywords:} unified scoring index, machine learning, sentiment analysis, natural language processing\n",
    "\\end{center}\n",
    "\n",
    "Customer reviews have a significant impact in the cutthroat hospitality industry, but hotel managers have difficulties in navigating the proliferation of internet platforms. The approach put forth in this study is to create \"PointView,\" a single hotel and restaurant score index, by utilizing machine learning (ML) and natural language processing (NLP).\n",
    "\n",
    "\"PointView\" simplifies the analysis of consumer feedback and is positioned at the nexus of information systems, computer science, and information technology. Beyond the classroom, it promises an intuitive user experience that will improve the whole customer experience and enable data-driven decision making.\n",
    "\n",
    "The VADER (Valence Aware Dictionary for Sentiment Reasoning) method was used to do sentiment analysis on data that was taken from Twitter, Agoda, and TripAdvisor using a Python web scraper. Combo score calculations are adjusted to account for establishment preferences. The initiative was successful in achieving its objective of creating a common scoring system for the hospitality and management industries.\n",
    "\n",
    "In summary, this research changes how the industry uses customer feedback. A product called \"PointView\" gives managers more control over how well they comprehend the voice of the client and makes data-driven decisions easier. The effectiveness of the solution is enhanced by modifications made to the current ML and NLP method.\n",
    "\\end{abstract}\n",
    "\n",
    "\\end{document}\n"
   ]
  }
 ],
 "metadata": {
  "kernelspec": {
   "display_name": "Python 3 (ipykernel)",
   "language": "python",
   "name": "python3"
  },
  "language_info": {
   "codemirror_mode": {
    "name": "ipython",
    "version": 3
   },
   "file_extension": ".py",
   "mimetype": "text/x-python",
   "name": "python",
   "nbconvert_exporter": "python",
   "pygments_lexer": "ipython3",
   "version": "3.12.1"
  }
 },
 "nbformat": 4,
 "nbformat_minor": 4
}
