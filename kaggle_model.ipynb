{
 "cells": [
  {
   "cell_type": "code",
   "execution_count": 1,
   "metadata": {},
   "outputs": [],
   "source": [
    "import os\n",
    "import pandas as pd\n",
    "import numpy as np\n",
    "import tensorflow as tf\n",
    "from tensorflow.keras.preprocessing.text import Tokenizer\n",
    "from tensorflow.keras.preprocessing.sequence import pad_sequences\n",
    "from tensorflow.keras.models import Sequential, load_model\n",
    "from tensorflow.keras.layers import Embedding, Conv1D, MaxPooling1D, Bidirectional, LSTM, Dense, Dropout\n",
    "from sklearn.model_selection import train_test_split\n",
    "import matplotlib.pyplot as plt\n",
    "from nltk.stem import WordNetLemmatizer\n",
    "import nltk\n",
    "from sklearn.preprocessing import MinMaxScaler\n",
    "import string\n",
    "from nltk.corpus import stopwords\n",
    "from tensorflow.keras.regularizers import l2\n",
    "\n",
    "# Download necessary NLTK resources\n",
    "# nltk.download('punkt')\n",
    "# nltk.download('wordnet')\n",
    "\n",
    "# Initialize lemmatizer\n",
    "lemmatizer = WordNetLemmatizer()\n",
    "stop_words = set(stopwords.words('english'))\n",
    "# Define directories for each dataset\n"
   ]
  },
  {
   "cell_type": "code",
   "execution_count": 40,
   "metadata": {},
   "outputs": [],
   "source": [
    "df_kaggle = pd.read_csv('kaggle_data_set/tripadvisor_hotel_reviews.csv')\n",
    "df_scraped = pd.read_csv('normalized_scraped_reviews.csv')\n",
    "scaler = MinMaxScaler(feature_range=(0, 1))\n",
    "df_kaggle['normalized_score'] = scaler.fit_transform(df_kaggle[['Review Score']])\n",
    "df = pd.concat([df_kaggle, df_scraped] , ignore_index=True)"
   ]
  },
  {
   "cell_type": "code",
   "execution_count": 41,
   "metadata": {},
   "outputs": [],
   "source": [
    "# Function to lemmatize text\n",
    "def preprocess_text(text):\n",
    "    # Step 1: Convert text to lowercase\n",
    "    text = text.lower()\n",
    "\n",
    "    # Step 2: Remove punctuation\n",
    "    # You can translate punctuation to None (removing it)\n",
    "    text = text.translate(str.maketrans('', '', string.punctuation))\n",
    "\n",
    "    # Step 3: Tokenization\n",
    "    tokens = nltk.word_tokenize(text)\n",
    "\n",
    "    # Step 4: Remove stop words\n",
    "    tokens = [word for word in tokens if word not in stop_words]\n",
    "\n",
    "    # Step 5: Lemmatization\n",
    "    lemmatized_tokens = [lemmatizer.lemmatize(word) for word in tokens]\n",
    "\n",
    "    # Return the processed text as a single string\n",
    "    return ' '.join(lemmatized_tokens)\n",
    "\n",
    "# Lemmatize the review content\n",
    "df['cleaned_content'] = df['Review Content'].apply(preprocess_text)"
   ]
  },
  {
   "cell_type": "code",
   "execution_count": 42,
   "metadata": {},
   "outputs": [
    {
     "name": "stdout",
     "output_type": "stream",
     "text": [
      "0        2\n",
      "1        0\n",
      "2        1\n",
      "3        2\n",
      "4        2\n",
      "        ..\n",
      "30728    2\n",
      "30729    2\n",
      "30730    1\n",
      "30731    2\n",
      "30732    2\n",
      "Name: label, Length: 30733, dtype: int64\n",
      "                                      Review Content  Review Score  \\\n",
      "0  nice hotel expensive parking got good deal sta...           4.0   \n",
      "1  ok nothing special charge diamond member hilto...           2.0   \n",
      "2  nice rooms not 4* experience hotel monaco seat...           3.0   \n",
      "3  unique, great stay, wonderful time hotel monac...           5.0   \n",
      "4  great stay great stay, went seahawk game aweso...           5.0   \n",
      "\n",
      "   normalized_score                                    cleaned_content  label  \n",
      "0              0.75  nice hotel expensive parking got good deal sta...      2  \n",
      "1              0.25  ok nothing special charge diamond member hilto...      0  \n",
      "2              0.50  nice room 4 experience hotel monaco seattle go...      1  \n",
      "3              1.00  unique great stay wonderful time hotel monaco ...      2  \n",
      "4              1.00  great stay great stay went seahawk game awesom...      2  \n",
      "       normalized_score         label\n",
      "count      30733.000000  30733.000000\n",
      "mean           0.777114      1.647122\n",
      "std            0.287576      0.680563\n",
      "min            0.000000      0.000000\n",
      "25%            0.750000      2.000000\n",
      "50%            0.888889      2.000000\n",
      "75%            1.000000      2.000000\n",
      "max            1.000000      2.000000\n"
     ]
    }
   ],
   "source": [
    "# Convert normalized scores to binary labels (1 for positive, 0 for negative)\n",
    "df['label'] = df['normalized_score'].apply(lambda x: 0 if x <= 0.25 else (2 if x >= 0.75 else 1))\n",
    "print(df['label'])\n",
    "print(df.head())\n",
    "\n",
    "print(df[['normalized_score', 'label']].describe())\n"
   ]
  },
  {
   "cell_type": "code",
   "execution_count": 43,
   "metadata": {},
   "outputs": [
    {
     "name": "stdout",
     "output_type": "stream",
     "text": [
      "Positive reviews: 23496\n",
      "Negative reviews: 3608\n",
      "Neutral reviews: 3629\n",
      "Total: 30733\n"
     ]
    }
   ],
   "source": [
    "# Count the occurrences of each label\n",
    "positive_count = (df['label'] == 2).sum()\n",
    "negative_count = (df['label'] == 0).sum()\n",
    "neutral_count = (df['label'] == 1).sum()\n",
    "\n",
    "# Print the counts\n",
    "print(f'Positive reviews: {positive_count}')\n",
    "print(f'Negative reviews: {negative_count}')\n",
    "print(f'Neutral reviews: {neutral_count}')\n",
    "print(f\"Total: {df['label'].count()}\")"
   ]
  },
  {
   "cell_type": "code",
   "execution_count": 44,
   "metadata": {},
   "outputs": [],
   "source": [
    "# # Filter rows by label\n",
    "# label_0 = df[df['label'] == 0]\n",
    "# label_1 = df[df['label'] == 1]\n",
    "# label_2 = df[df['label'] == 2]\n",
    "\n",
    "# # Adjust rows with label 2 to have exactly 4000 rows\n",
    "# current_count_label_2 = len(label_2)\n",
    "# if current_count_label_2 > 6000:\n",
    "#     label_2 = label_2.sample(n=6000, random_state=42)  # Randomly sample down to 4000\n",
    "# # elif current_count_label_2 < 4000:\n",
    "# #     additional_rows = label_2.sample(n=4000 - current_count_label_2, replace=True, random_state=42)  # Sample with replacement to increase to 4000\n",
    "# #     label_2 = pd.concat([label_2, additional_rows])\n",
    "\n",
    "# # Combine adjusted data\n",
    "# df = pd.concat([label_0, label_1, label_2])\n",
    "\n",
    "# # Optional: Shuffle the DataFrame if needed\n",
    "# df= df.sample(frac=1, random_state=42).reset_index(drop=True)\n",
    "# print(df.head())\n"
   ]
  },
  {
   "cell_type": "code",
   "execution_count": 45,
   "metadata": {},
   "outputs": [],
   "source": [
    "# Tokenization\n",
    "tokenizer = Tokenizer(num_words=5000)\n",
    "tokenizer.fit_on_texts(df['cleaned_content'])\n",
    "\n",
    "# Convert texts to sequences\n",
    "sequences = tokenizer.texts_to_sequences(df['cleaned_content'])\n",
    "padded_sequences = pad_sequences(sequences, maxlen=100)\n",
    "\n",
    "# Prepare labels\n",
    "labels = df['label']\n",
    "\n",
    "# Split the data\n",
    "X_train, X_test, y_train, y_test = train_test_split(padded_sequences, labels, test_size=0.3, stratify=labels, random_state=42)\n",
    "\n",
    "\n"
   ]
  },
  {
   "cell_type": "code",
   "execution_count": 46,
   "metadata": {},
   "outputs": [
    {
     "name": "stdout",
     "output_type": "stream",
     "text": [
      "Epoch 1/10\n"
     ]
    },
    {
     "name": "stderr",
     "output_type": "stream",
     "text": [
      "c:\\Users\\Predator\\AppData\\Local\\Programs\\Python\\Python311\\Lib\\site-packages\\keras\\src\\layers\\core\\embedding.py:90: UserWarning: Argument `input_length` is deprecated. Just remove it.\n",
      "  warnings.warn(\n"
     ]
    },
    {
     "name": "stdout",
     "output_type": "stream",
     "text": [
      "\u001b[1m538/538\u001b[0m \u001b[32m━━━━━━━━━━━━━━━━━━━━\u001b[0m\u001b[37m\u001b[0m \u001b[1m46s\u001b[0m 67ms/step - accuracy: 0.7920 - loss: 0.6663 - val_accuracy: 0.8299 - val_loss: 0.4860\n",
      "Epoch 2/10\n",
      "\u001b[1m538/538\u001b[0m \u001b[32m━━━━━━━━━━━━━━━━━━━━\u001b[0m\u001b[37m\u001b[0m \u001b[1m33s\u001b[0m 62ms/step - accuracy: 0.8549 - loss: 0.3986 - val_accuracy: 0.8278 - val_loss: 0.4587\n",
      "Epoch 3/10\n",
      "\u001b[1m538/538\u001b[0m \u001b[32m━━━━━━━━━━━━━━━━━━━━\u001b[0m\u001b[37m\u001b[0m \u001b[1m32s\u001b[0m 60ms/step - accuracy: 0.8867 - loss: 0.3042 - val_accuracy: 0.8294 - val_loss: 0.4756\n",
      "Epoch 4/10\n",
      "\u001b[1m538/538\u001b[0m \u001b[32m━━━━━━━━━━━━━━━━━━━━\u001b[0m\u001b[37m\u001b[0m \u001b[1m33s\u001b[0m 61ms/step - accuracy: 0.9175 - loss: 0.2362 - val_accuracy: 0.8287 - val_loss: 0.5769\n",
      "Epoch 5/10\n",
      "\u001b[1m538/538\u001b[0m \u001b[32m━━━━━━━━━━━━━━━━━━━━\u001b[0m\u001b[37m\u001b[0m \u001b[1m35s\u001b[0m 65ms/step - accuracy: 0.9427 - loss: 0.1812 - val_accuracy: 0.8213 - val_loss: 0.6964\n",
      "Epoch 6/10\n",
      "\u001b[1m538/538\u001b[0m \u001b[32m━━━━━━━━━━━━━━━━━━━━\u001b[0m\u001b[37m\u001b[0m \u001b[1m33s\u001b[0m 62ms/step - accuracy: 0.9562 - loss: 0.1479 - val_accuracy: 0.8257 - val_loss: 0.7386\n",
      "Epoch 7/10\n",
      "\u001b[1m538/538\u001b[0m \u001b[32m━━━━━━━━━━━━━━━━━━━━\u001b[0m\u001b[37m\u001b[0m \u001b[1m33s\u001b[0m 62ms/step - accuracy: 0.9683 - loss: 0.1103 - val_accuracy: 0.8269 - val_loss: 0.7810\n",
      "Epoch 8/10\n",
      "\u001b[1m538/538\u001b[0m \u001b[32m━━━━━━━━━━━━━━━━━━━━\u001b[0m\u001b[37m\u001b[0m \u001b[1m35s\u001b[0m 66ms/step - accuracy: 0.9749 - loss: 0.0902 - val_accuracy: 0.8166 - val_loss: 0.9386\n",
      "Epoch 9/10\n",
      "\u001b[1m538/538\u001b[0m \u001b[32m━━━━━━━━━━━━━━━━━━━━\u001b[0m\u001b[37m\u001b[0m \u001b[1m35s\u001b[0m 65ms/step - accuracy: 0.9820 - loss: 0.0680 - val_accuracy: 0.8106 - val_loss: 0.9451\n",
      "Epoch 10/10\n",
      "\u001b[1m538/538\u001b[0m \u001b[32m━━━━━━━━━━━━━━━━━━━━\u001b[0m\u001b[37m\u001b[0m \u001b[1m36s\u001b[0m 66ms/step - accuracy: 0.9865 - loss: 0.0529 - val_accuracy: 0.8085 - val_loss: 1.0210\n",
      "\u001b[1m289/289\u001b[0m \u001b[32m━━━━━━━━━━━━━━━━━━━━\u001b[0m\u001b[37m\u001b[0m \u001b[1m8s\u001b[0m 26ms/step - accuracy: 0.8131 - loss: 0.9845\n",
      "Test Accuracy: 0.8168\n"
     ]
    },
    {
     "data": {
      "image/png": "[encoded data removed]",
      "text/plain": [
       "<Figure size 1200x400 with 2 Axes>"
      ]
     },
     "metadata": {},
     "output_type": "display_data"
    }
   ],
   "source": [
    "# Model creation\n",
    "model = Sequential([\n",
    "    Embedding(input_dim=5000, output_dim=128, input_length=100),\n",
    "    Conv1D(filters=64, kernel_size=5, activation='relu'),\n",
    "    MaxPooling1D(pool_size=2),\n",
    "    Bidirectional(LSTM(64, return_sequences=True)),\n",
    "    Bidirectional(LSTM(64)),\n",
    "    Dense(64, activation='relu', kernel_regularizer=l2(0.001)),  # Corrected placement\n",
    "    Dropout(0.5),\n",
    "    Dense(3, activation='softmax')  # Assuming 3 classes for multi-class classification\n",
    "])\n",
    "\n",
    "# Model Compilation\n",
    "model.compile(optimizer='adam', loss='sparse_categorical_crossentropy', metrics=['accuracy'])\n",
    "\n",
    "# Model Training\n",
    "history = model.fit(X_train, y_train, epochs=10, batch_size=32, validation_split=0.2)\n",
    "\n",
    "# Model Evaluation\n",
    "loss, accuracy = model.evaluate(X_test, y_test)\n",
    "print(f'Test Accuracy: {accuracy:.4f}')  # Rounded to 4 decimal places for clarity\n",
    "\n",
    "# Plot training & validation accuracy and loss values\n",
    "plt.figure(figsize=(12, 4))\n",
    "\n",
    "plt.subplot(1, 2, 1)\n",
    "plt.plot(history.history['accuracy'], label='Train Accuracy')\n",
    "plt.plot(history.history['val_accuracy'], label='Validation Accuracy')\n",
    "plt.title('Model Accuracy Over Epochs')\n",
    "plt.ylabel('Accuracy')\n",
    "plt.xlabel('Epoch')\n",
    "plt.legend(loc='upper left')\n",
    "\n",
    "plt.subplot(1, 2, 2)\n",
    "plt.plot(history.history['loss'], label='Train Loss')\n",
    "plt.plot(history.history['val_loss'], label='Validation Loss')\n",
    "plt.title('Model Loss Over Epochs')\n",
    "plt.ylabel('Loss')\n",
    "plt.xlabel('Epoch')\n",
    "plt.legend(loc='upper left')\n",
    "\n",
    "plt.tight_layout()\n",
    "plt.show()"
   ]
  },
  {
   "cell_type": "code",
   "execution_count": 47,
   "metadata": {},
   "outputs": [
    {
     "name": "stdout",
     "output_type": "stream",
     "text": [
      "Positive reviews: 23496\n",
      "Negative reviews: 3608\n",
      "Neutral reviews: 3629\n",
      "Total: 30733\n"
     ]
    }
   ],
   "source": [
    "# Count the occurrences of each label\n",
    "positive_count = (df['label'] == 2).sum()\n",
    "negative_count = (df['label'] == 0).sum()\n",
    "neutral_count = (df['label'] == 1).sum()\n",
    "\n",
    "# Print the counts\n",
    "print(f'Positive reviews: {positive_count}')\n",
    "print(f'Negative reviews: {negative_count}')\n",
    "print(f'Neutral reviews: {neutral_count}')\n",
    "print(f\"Total: {df['label'].count()}\")"
   ]
  },
  {
   "cell_type": "code",
   "execution_count": 10,
   "metadata": {},
   "outputs": [
    {
     "name": "stdout",
     "output_type": "stream",
     "text": [
      "\u001b[1m1/1\u001b[0m \u001b[32m━━━━━━━━━━━━━━━━━━━━\u001b[0m\u001b[37m\u001b[0m \u001b[1m1s\u001b[0m 1s/step\n",
      "Review: The hotel staff was incredibly helpful and the room was clean and spacious. Definitely a positive experience!\n",
      "Actual Score: 1.00\n",
      "Predicted Label: Positive\n",
      "Negative Probability: 0.00\n",
      "Neutral Probability: 0.01\n",
      "Positive Probability: 0.99\n",
      "--------------------------------------------------\n",
      "Review: The location was good, but the room had a strange smell and the service was just okay.\n",
      "Actual Score: 0.60\n",
      "Predicted Label: Neutral\n",
      "Negative Probability: 0.05\n",
      "Neutral Probability: 0.95\n",
      "Positive Probability: 0.00\n",
      "--------------------------------------------------\n",
      "Review: I had a terrible stay. The room was dirty and the staff was rude. Not worth the price.\n",
      "Actual Score: 0.20\n",
      "Predicted Label: Neutral\n",
      "Negative Probability: 0.42\n",
      "Neutral Probability: 0.58\n",
      "Positive Probability: 0.00\n",
      "--------------------------------------------------\n",
      "Review: Amazing experience! The view from the room was breathtaking and the food at the restaurant was top-notch.\n",
      "Actual Score: 1.00\n",
      "Predicted Label: Positive\n",
      "Negative Probability: 0.00\n",
      "Neutral Probability: 0.00\n",
      "Positive Probability: 1.00\n",
      "--------------------------------------------------\n",
      "Review: The room was decent, but the Wi-Fi was slow and unreliable. It was an average stay overall.\n",
      "Actual Score: 0.50\n",
      "Predicted Label: Positive\n",
      "Negative Probability: 0.00\n",
      "Neutral Probability: 0.12\n",
      "Positive Probability: 0.88\n",
      "--------------------------------------------------\n",
      "Review: Terrible service! We waited over an hour for our room to be ready and the staff was not apologetic.\n",
      "Actual Score: 0.30\n",
      "Predicted Label: Negative\n",
      "Negative Probability: 0.80\n",
      "Neutral Probability: 0.20\n",
      "Positive Probability: 0.00\n",
      "--------------------------------------------------\n",
      "Review: The hotel was in a perfect location, close to all the major attractions. The room was comfortable and well-maintained.\n",
      "Actual Score: 0.90\n",
      "Predicted Label: Positive\n",
      "Negative Probability: 0.00\n",
      "Neutral Probability: 0.00\n",
      "Positive Probability: 1.00\n",
      "--------------------------------------------------\n",
      "Review: The facilities were outdated, and the air conditioning barely worked. I was disappointed with my stay.\n",
      "Actual Score: 0.40\n",
      "Predicted Label: Positive\n",
      "Negative Probability: 0.00\n",
      "Neutral Probability: 0.01\n",
      "Positive Probability: 0.99\n",
      "--------------------------------------------------\n",
      "Review: Great value for money! The hotel offered a lot of amenities and the staff was very friendly.\n",
      "Actual Score: 0.80\n",
      "Predicted Label: Positive\n",
      "Negative Probability: 0.00\n",
      "Neutral Probability: 0.00\n",
      "Positive Probability: 1.00\n",
      "--------------------------------------------------\n",
      "Review: The breakfast was good, but the room was small and the bed was uncomfortable. It was an okay stay.\n",
      "Actual Score: 0.60\n",
      "Predicted Label: Neutral\n",
      "Negative Probability: 0.01\n",
      "Neutral Probability: 0.99\n",
      "Positive Probability: 0.00\n",
      "--------------------------------------------------\n"
     ]
    }
   ],
   "source": [
    "import numpy as np\n",
    "from tensorflow.keras.preprocessing.sequence import pad_sequences\n",
    "\n",
    "# Example input reviews\n",
    "new_reviews = [\n",
    "    {\"review\": \"The hotel staff was incredibly helpful and the room was clean and spacious. Definitely a positive experience!\", \"score\": 1.0},\n",
    "    {\"review\": \"The location was good, but the room had a strange smell and the service was just okay.\", \"score\": 0.6},\n",
    "    {\"review\": \"I had a terrible stay. The room was dirty and the staff was rude. Not worth the price.\", \"score\": 0.2},\n",
    "    {\"review\": \"Amazing experience! The view from the room was breathtaking and the food at the restaurant was top-notch.\", \"score\": 1.0},\n",
    "    {\"review\": \"The room was decent, but the Wi-Fi was slow and unreliable. It was an average stay overall.\", \"score\": 0.5},\n",
    "    {\"review\": \"Terrible service! We waited over an hour for our room to be ready and the staff was not apologetic.\", \"score\": 0.3},\n",
    "    {\"review\": \"The hotel was in a perfect location, close to all the major attractions. The room was comfortable and well-maintained.\", \"score\": 0.9},\n",
    "    {\"review\": \"The facilities were outdated, and the air conditioning barely worked. I was disappointed with my stay.\", \"score\": 0.4},\n",
    "    {\"review\": \"Great value for money! The hotel offered a lot of amenities and the staff was very friendly.\", \"score\": 0.8},\n",
    "    {\"review\": \"The breakfast was good, but the room was small and the bed was uncomfortable. It was an okay stay.\", \"score\": 0.6}\n",
    "]\n",
    "\n",
    "# Define a function to preprocess new input data\n",
    "def preprocess_new_data(new_data):\n",
    "    # Apply the same preprocessing function\n",
    "    cleaned_data = [preprocess_text(entry[\"review\"]) for entry in new_data]\n",
    "    \n",
    "    # Convert to sequences using the trained tokenizer\n",
    "    sequences = tokenizer.texts_to_sequences(cleaned_data)\n",
    "    \n",
    "    # Pad the sequences\n",
    "    padded_sequences = pad_sequences(sequences, maxlen=100)  # Use the same maxlen as your training data\n",
    "\n",
    "    return padded_sequences\n",
    "\n",
    "# Prepare reviews for prediction\n",
    "padded_sequences = preprocess_new_data(new_reviews)\n",
    "\n",
    "# Make predictions\n",
    "predictions = model.predict(padded_sequences)\n",
    "\n",
    "# Interpreting the predictions\n",
    "for i, prediction in enumerate(predictions):\n",
    "    predicted_label = np.argmax(prediction)  # Get the index of the highest probability\n",
    "    predicted_score = prediction[predicted_label]  # The probability of the predicted class\n",
    "    actual_score = new_reviews[i][\"score\"]\n",
    "\n",
    "    # Assign sentiment based on the predicted label\n",
    "    sentiment_labels = ['Negative', 'Neutral', 'Positive']\n",
    "    sentiment = sentiment_labels[predicted_label]\n",
    "\n",
    "    # Print the results\n",
    "    print(f\"Review: {new_reviews[i]['review']}\")\n",
    "    print(f\"Actual Score: {actual_score:.2f}\")\n",
    "    print(f\"Predicted Label: {sentiment}\")\n",
    "    print(f\"Negative Probability: {prediction[0]:.2f}\")\n",
    "    print(f\"Neutral Probability: {prediction[1]:.2f}\")\n",
    "    print(f\"Positive Probability: {prediction[2]:.2f}\")\n",
    "    print(\"-\" * 50)"
   ]
  },
  {
   "cell_type": "code",
   "execution_count": 11,
   "metadata": {},
   "outputs": [
    {
     "name": "stdout",
     "output_type": "stream",
     "text": [
      "Model saved as saved_models/general_sentiment_softmax_20240825_002342.keras\n"
     ]
    },
    {
     "data": {
      "text/html": [
       "<pre style=\"white-space:pre;overflow-x:auto;line-height:normal;font-family:Menlo,'DejaVu Sans Mono',consolas,'Courier New',monospace\"><span style=\"font-weight: bold\">Model: \"sequential\"</span>\n",
       "</pre>\n"
      ],
      "text/plain": [
       "\u001b[1mModel: \"sequential\"\u001b[0m\n"
      ]
     },
     "metadata": {},
     "output_type": "display_data"
    },
    {
     "data": {
      "text/html": [
       "<pre style=\"white-space:pre;overflow-x:auto;line-height:normal;font-family:Menlo,'DejaVu Sans Mono',consolas,'Courier New',monospace\">┏━━━━━━━━━━━━━━━━━━━━━━━━━━━━━━━━━┳━━━━━━━━━━━━━━━━━━━━━━━━┳━━━━━━━━━━━━━━━┓\n",
       "┃<span style=\"font-weight: bold\"> Layer (type)                    </span>┃<span style=\"font-weight: bold\"> Output Shape           </span>┃<span style=\"font-weight: bold\">       Param # </span>┃\n",
       "┡━━━━━━━━━━━━━━━━━━━━━━━━━━━━━━━━━╇━━━━━━━━━━━━━━━━━━━━━━━━╇━━━━━━━━━━━━━━━┩\n",
       "│ embedding (<span style=\"color: #0087ff; text-decoration-color: #0087ff\">Embedding</span>)           │ (<span style=\"color: #00d7ff; text-decoration-color: #00d7ff\">None</span>, <span style=\"color: #00af00; text-decoration-color: #00af00\">100</span>, <span style=\"color: #00af00; text-decoration-color: #00af00\">128</span>)       │       <span style=\"color: #00af00; text-decoration-color: #00af00\">640,000</span> │\n",
       "├─────────────────────────────────┼────────────────────────┼───────────────┤\n",
       "│ conv1d (<span style=\"color: #0087ff; text-decoration-color: #0087ff\">Conv1D</span>)                 │ (<span style=\"color: #00d7ff; text-decoration-color: #00d7ff\">None</span>, <span style=\"color: #00af00; text-decoration-color: #00af00\">96</span>, <span style=\"color: #00af00; text-decoration-color: #00af00\">64</span>)         │        <span style=\"color: #00af00; text-decoration-color: #00af00\">41,024</span> │\n",
       "├─────────────────────────────────┼────────────────────────┼───────────────┤\n",
       "│ max_pooling1d (<span style=\"color: #0087ff; text-decoration-color: #0087ff\">MaxPooling1D</span>)    │ (<span style=\"color: #00d7ff; text-decoration-color: #00d7ff\">None</span>, <span style=\"color: #00af00; text-decoration-color: #00af00\">48</span>, <span style=\"color: #00af00; text-decoration-color: #00af00\">64</span>)         │             <span style=\"color: #00af00; text-decoration-color: #00af00\">0</span> │\n",
       "├─────────────────────────────────┼────────────────────────┼───────────────┤\n",
       "│ bidirectional (<span style=\"color: #0087ff; text-decoration-color: #0087ff\">Bidirectional</span>)   │ (<span style=\"color: #00d7ff; text-decoration-color: #00d7ff\">None</span>, <span style=\"color: #00af00; text-decoration-color: #00af00\">48</span>, <span style=\"color: #00af00; text-decoration-color: #00af00\">128</span>)        │        <span style=\"color: #00af00; text-decoration-color: #00af00\">66,048</span> │\n",
       "├─────────────────────────────────┼────────────────────────┼───────────────┤\n",
       "│ bidirectional_1 (<span style=\"color: #0087ff; text-decoration-color: #0087ff\">Bidirectional</span>) │ (<span style=\"color: #00d7ff; text-decoration-color: #00d7ff\">None</span>, <span style=\"color: #00af00; text-decoration-color: #00af00\">128</span>)            │        <span style=\"color: #00af00; text-decoration-color: #00af00\">98,816</span> │\n",
       "├─────────────────────────────────┼────────────────────────┼───────────────┤\n",
       "│ dense (<span style=\"color: #0087ff; text-decoration-color: #0087ff\">Dense</span>)                   │ (<span style=\"color: #00d7ff; text-decoration-color: #00d7ff\">None</span>, <span style=\"color: #00af00; text-decoration-color: #00af00\">64</span>)             │         <span style=\"color: #00af00; text-decoration-color: #00af00\">8,256</span> │\n",
       "├─────────────────────────────────┼────────────────────────┼───────────────┤\n",
       "│ dropout (<span style=\"color: #0087ff; text-decoration-color: #0087ff\">Dropout</span>)               │ (<span style=\"color: #00d7ff; text-decoration-color: #00d7ff\">None</span>, <span style=\"color: #00af00; text-decoration-color: #00af00\">64</span>)             │             <span style=\"color: #00af00; text-decoration-color: #00af00\">0</span> │\n",
       "├─────────────────────────────────┼────────────────────────┼───────────────┤\n",
       "│ dense_1 (<span style=\"color: #0087ff; text-decoration-color: #0087ff\">Dense</span>)                 │ (<span style=\"color: #00d7ff; text-decoration-color: #00d7ff\">None</span>, <span style=\"color: #00af00; text-decoration-color: #00af00\">3</span>)              │           <span style=\"color: #00af00; text-decoration-color: #00af00\">195</span> │\n",
       "└─────────────────────────────────┴────────────────────────┴───────────────┘\n",
       "</pre>\n"
      ],
      "text/plain": [
       "┏━━━━━━━━━━━━━━━━━━━━━━━━━━━━━━━━━┳━━━━━━━━━━━━━━━━━━━━━━━━┳━━━━━━━━━━━━━━━┓\n",
       "┃\u001b[1m \u001b[0m\u001b[1mLayer (type)                   \u001b[0m\u001b[1m \u001b[0m┃\u001b[1m \u001b[0m\u001b[1mOutput Shape          \u001b[0m\u001b[1m \u001b[0m┃\u001b[1m \u001b[0m\u001b[1m      Param #\u001b[0m\u001b[1m \u001b[0m┃\n",
       "┡━━━━━━━━━━━━━━━━━━━━━━━━━━━━━━━━━╇━━━━━━━━━━━━━━━━━━━━━━━━╇━━━━━━━━━━━━━━━┩\n",
       "│ embedding (\u001b[38;5;33mEmbedding\u001b[0m)           │ (\u001b[38;5;45mNone\u001b[0m, \u001b[38;5;34m100\u001b[0m, \u001b[38;5;34m128\u001b[0m)       │       \u001b[38;5;34m640,000\u001b[0m │\n",
       "├─────────────────────────────────┼────────────────────────┼───────────────┤\n",
       "│ conv1d (\u001b[38;5;33mConv1D\u001b[0m)                 │ (\u001b[38;5;45mNone\u001b[0m, \u001b[38;5;34m96\u001b[0m, \u001b[38;5;34m64\u001b[0m)         │        \u001b[38;5;34m41,024\u001b[0m │\n",
       "├─────────────────────────────────┼────────────────────────┼───────────────┤\n",
       "│ max_pooling1d (\u001b[38;5;33mMaxPooling1D\u001b[0m)    │ (\u001b[38;5;45mNone\u001b[0m, \u001b[38;5;34m48\u001b[0m, \u001b[38;5;34m64\u001b[0m)         │             \u001b[38;5;34m0\u001b[0m │\n",
       "├─────────────────────────────────┼────────────────────────┼───────────────┤\n",
       "│ bidirectional (\u001b[38;5;33mBidirectional\u001b[0m)   │ (\u001b[38;5;45mNone\u001b[0m, \u001b[38;5;34m48\u001b[0m, \u001b[38;5;34m128\u001b[0m)        │        \u001b[38;5;34m66,048\u001b[0m │\n",
       "├─────────────────────────────────┼────────────────────────┼───────────────┤\n",
       "│ bidirectional_1 (\u001b[38;5;33mBidirectional\u001b[0m) │ (\u001b[38;5;45mNone\u001b[0m, \u001b[38;5;34m128\u001b[0m)            │        \u001b[38;5;34m98,816\u001b[0m │\n",
       "├─────────────────────────────────┼────────────────────────┼───────────────┤\n",
       "│ dense (\u001b[38;5;33mDense\u001b[0m)                   │ (\u001b[38;5;45mNone\u001b[0m, \u001b[38;5;34m64\u001b[0m)             │         \u001b[38;5;34m8,256\u001b[0m │\n",
       "├─────────────────────────────────┼────────────────────────┼───────────────┤\n",
       "│ dropout (\u001b[38;5;33mDropout\u001b[0m)               │ (\u001b[38;5;45mNone\u001b[0m, \u001b[38;5;34m64\u001b[0m)             │             \u001b[38;5;34m0\u001b[0m │\n",
       "├─────────────────────────────────┼────────────────────────┼───────────────┤\n",
       "│ dense_1 (\u001b[38;5;33mDense\u001b[0m)                 │ (\u001b[38;5;45mNone\u001b[0m, \u001b[38;5;34m3\u001b[0m)              │           \u001b[38;5;34m195\u001b[0m │\n",
       "└─────────────────────────────────┴────────────────────────┴───────────────┘\n"
      ]
     },
     "metadata": {},
     "output_type": "display_data"
    },
    {
     "data": {
      "text/html": [
       "<pre style=\"white-space:pre;overflow-x:auto;line-height:normal;font-family:Menlo,'DejaVu Sans Mono',consolas,'Courier New',monospace\"><span style=\"font-weight: bold\"> Total params: </span><span style=\"color: #00af00; text-decoration-color: #00af00\">2,563,019</span> (9.78 MB)\n",
       "</pre>\n"
      ],
      "text/plain": [
       "\u001b[1m Total params: \u001b[0m\u001b[38;5;34m2,563,019\u001b[0m (9.78 MB)\n"
      ]
     },
     "metadata": {},
     "output_type": "display_data"
    },
    {
     "data": {
      "text/html": [
       "<pre style=\"white-space:pre;overflow-x:auto;line-height:normal;font-family:Menlo,'DejaVu Sans Mono',consolas,'Courier New',monospace\"><span style=\"font-weight: bold\"> Trainable params: </span><span style=\"color: #00af00; text-decoration-color: #00af00\">854,339</span> (3.26 MB)\n",
       "</pre>\n"
      ],
      "text/plain": [
       "\u001b[1m Trainable params: \u001b[0m\u001b[38;5;34m854,339\u001b[0m (3.26 MB)\n"
      ]
     },
     "metadata": {},
     "output_type": "display_data"
    },
    {
     "data": {
      "text/html": [
       "<pre style=\"white-space:pre;overflow-x:auto;line-height:normal;font-family:Menlo,'DejaVu Sans Mono',consolas,'Courier New',monospace\"><span style=\"font-weight: bold\"> Non-trainable params: </span><span style=\"color: #00af00; text-decoration-color: #00af00\">0</span> (0.00 B)\n",
       "</pre>\n"
      ],
      "text/plain": [
       "\u001b[1m Non-trainable params: \u001b[0m\u001b[38;5;34m0\u001b[0m (0.00 B)\n"
      ]
     },
     "metadata": {},
     "output_type": "display_data"
    },
    {
     "data": {
      "text/html": [
       "<pre style=\"white-space:pre;overflow-x:auto;line-height:normal;font-family:Menlo,'DejaVu Sans Mono',consolas,'Courier New',monospace\"><span style=\"font-weight: bold\"> Optimizer params: </span><span style=\"color: #00af00; text-decoration-color: #00af00\">1,708,680</span> (6.52 MB)\n",
       "</pre>\n"
      ],
      "text/plain": [
       "\u001b[1m Optimizer params: \u001b[0m\u001b[38;5;34m1,708,680\u001b[0m (6.52 MB)\n"
      ]
     },
     "metadata": {},
     "output_type": "display_data"
    }
   ],
   "source": [
    "from datetime import datetime\n",
    "import os\n",
    "\n",
    "# Assuming `model` is your Keras model\n",
    "timestamp = datetime.now().strftime(\"%Y%m%d_%H%M%S\")\n",
    "file_name = f'saved_models/general_sentiment_softmax_{timestamp}.keras'\n",
    "\n",
    "# Make sure the directory exists\n",
    "os.makedirs(os.path.dirname(file_name), exist_ok=True)\n",
    "\n",
    "# Save the model with the unique file name\n",
    "model.save(file_name)\n",
    "print(f\"Model saved as {file_name}\")\n",
    "model.summary()"
   ]
  },
  {
   "cell_type": "code",
   "execution_count": null,
   "metadata": {},
   "outputs": [],
   "source": []
  }
 ],
 "metadata": {
  "kernelspec": {
   "display_name": "Python 3",
   "language": "python",
   "name": "python3"
  },
  "language_info": {
   "codemirror_mode": {
    "name": "ipython",
    "version": 3
   },
   "file_extension": ".py",
   "mimetype": "text/x-python",
   "name": "python",
   "nbconvert_exporter": "python",
   "pygments_lexer": "ipython3",
   "version": "3.11.5"
  }
 },
 "nbformat": 4,
 "nbformat_minor": 2
}
