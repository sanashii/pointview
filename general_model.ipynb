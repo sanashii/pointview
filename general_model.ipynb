{
 "cells": [
  {
   "cell_type": "code",
   "execution_count": 3,
   "metadata": {},
   "outputs": [],
   "source": [
    "import os\n",
    "import pandas as pd\n",
    "import numpy as np\n",
    "import tensorflow as tf\n",
    "from tensorflow.keras.preprocessing.text import Tokenizer\n",
    "from tensorflow.keras.preprocessing.sequence import pad_sequences\n",
    "from tensorflow.keras.models import Sequential, load_model\n",
    "from tensorflow.keras.layers import Embedding, Conv1D, MaxPooling1D, Bidirectional, LSTM, Dense, Dropout\n",
    "from sklearn.model_selection import train_test_split\n",
    "import matplotlib.pyplot as plt\n",
    "from nltk.stem import WordNetLemmatizer\n",
    "import nltk\n",
    "from sklearn.preprocessing import MinMaxScaler\n",
    "import string\n",
    "from nltk.corpus import stopwords\n",
    "\n",
    "# Download necessary NLTK resources\n",
    "# nltk.download('punkt')\n",
    "# nltk.download('wordnet')\n",
    "\n",
    "# Initialize lemmatizer\n",
    "lemmatizer = WordNetLemmatizer()\n",
    "stop_words = set(stopwords.words('english'))\n",
    "# Define directories for each dataset\n",
    "directories = {\n",
    "    'agoda_hotel_reviews': (1, 10),  \n",
    "    'tripadvisor_hotel_reviews': (1, 5),\n",
    "    'klook_hotel_reviews': (1, 5),  \n",
    "    'booking_hotel_reviews': (1, 10)\n",
    "}"
   ]
  },
  {
   "cell_type": "code",
   "execution_count": 4,
   "metadata": {},
   "outputs": [],
   "source": [
    "# Function to load and normalize data\n",
    "def load_and_normalize_data():\n",
    "    all_reviews = []\n",
    "    for directory, (min_score, max_score) in directories.items():           \n",
    "        path = os.path.join('raw data', directory)\n",
    "        for filename in os.listdir(path):\n",
    "            if filename.endswith('.csv'):\n",
    "                df = pd.read_csv(os.path.join(path, filename))\n",
    "                scaler = MinMaxScaler(feature_range=(0, 1))\n",
    "                df['normalized_score'] = scaler.fit_transform(df[['Review Score']])\n",
    "                all_reviews.append(df)\n",
    "    return pd.concat(all_reviews, ignore_index=True)\n",
    "\n",
    "# Load and normalize data\n",
    "df = load_and_normalize_data()"
   ]
  },
  {
   "cell_type": "code",
   "execution_count": 5,
   "metadata": {},
   "outputs": [],
   "source": [
    "# Function to lemmatize text\n",
    "def preprocess_text(text):\n",
    "    # Step 1: Convert text to lowercase\n",
    "    text = text.lower()\n",
    "\n",
    "    # Step 2: Remove punctuation\n",
    "    # You can translate punctuation to None (removing it)\n",
    "    text = text.translate(str.maketrans('', '', string.punctuation))\n",
    "\n",
    "    # Step 3: Tokenization\n",
    "    tokens = nltk.word_tokenize(text)\n",
    "\n",
    "    # Step 4: Remove stop words\n",
    "    tokens = [word for word in tokens if word not in stop_words]\n",
    "\n",
    "    # Step 5: Lemmatization\n",
    "    lemmatized_tokens = [lemmatizer.lemmatize(word) for word in tokens]\n",
    "\n",
    "    # Return the processed text as a single string\n",
    "    return ' '.join(lemmatized_tokens)\n",
    "\n",
    "# Lemmatize the review content\n",
    "df['cleaned_content'] = df['Review Content'].apply(preprocess_text)"
   ]
  },
  {
   "cell_type": "code",
   "execution_count": 6,
   "metadata": {},
   "outputs": [
    {
     "name": "stdout",
     "output_type": "stream",
     "text": [
      "  Review Provider  Review ID  \\\n",
      "0           Agoda  831639368   \n",
      "1           Agoda  830646554   \n",
      "2           Agoda  830862563   \n",
      "3           Agoda  830828036   \n",
      "4           Agoda  823596890   \n",
      "\n",
      "                                      Review Content  Review Score  \\\n",
      "0  The hotel's facilities were top notch, from th...           9.6   \n",
      "1  I enjoyed my stay at the Bai Hotel. The prices...          10.0   \n",
      "2                        My favorite hotel\\r\\n \\r\\n           10.0   \n",
      "3  This hotel was so accommodating. Good staff, g...          10.0   \n",
      "4                         Well recommended\\r\\n \\r\\n           10.0   \n",
      "\n",
      "                 Review Time  normalized_score  \\\n",
      "0  2024-07-16T09:26:00+07:00              0.95   \n",
      "1  2024-07-15T12:05:00+07:00              1.00   \n",
      "2  2024-07-15T07:56:00+07:00              1.00   \n",
      "3  2024-07-15T04:07:00+07:00              1.00   \n",
      "4  2024-07-14T07:00:00+07:00              1.00   \n",
      "\n",
      "                                     cleaned_content  label  \n",
      "0  hotel facility top notch well maintained ameni...      1  \n",
      "1  enjoyed stay bai hotel price reasonable room n...      1  \n",
      "2                                     favorite hotel      1  \n",
      "3  hotel accommodating good staff great ambiance ...      1  \n",
      "4                                   well recommended      1  \n",
      "       normalized_score         label\n",
      "count      10242.000000  10242.000000\n",
      "mean           0.855256      0.781976\n",
      "std            0.221119      0.497445\n",
      "min            0.000000     -1.000000\n",
      "25%            0.777778      1.000000\n",
      "50%            1.000000      1.000000\n",
      "75%            1.000000      1.000000\n",
      "max            1.000000      1.000000\n"
     ]
    }
   ],
   "source": [
    "# Convert normalized scores to binary labels (1 for positive, 0 for negative)\n",
    "df['label'] = df['normalized_score'].apply(lambda x: -1 if x <= 0.25 else (1 if x >= 0.75 else 0))\n",
    "print(df.head())\n",
    "\n",
    "print(df[['normalized_score', 'label']].describe())"
   ]
  },
  {
   "cell_type": "code",
   "execution_count": 7,
   "metadata": {},
   "outputs": [
    {
     "name": "stdout",
     "output_type": "stream",
     "text": [
      "Positive reviews: 8403\n",
      "Negative reviews: 394\n",
      "Neutral reviews: 1445\n",
      "Total: 10242\n"
     ]
    }
   ],
   "source": [
    "# Count the occurrences of each label\n",
    "positive_count = (df['label'] == 1).sum()\n",
    "negative_count = (df['label'] == -1).sum()\n",
    "neutral_count = (df['label'] == 0).sum()\n",
    "\n",
    "# Print the counts\n",
    "print(f'Positive reviews: {positive_count}')\n",
    "print(f'Negative reviews: {negative_count}')\n",
    "print(f'Neutral reviews: {neutral_count}')\n",
    "print(f\"Total: {df['label'].count()}\")"
   ]
  },
  {
   "cell_type": "code",
   "execution_count": 8,
   "metadata": {},
   "outputs": [],
   "source": [
    "# Tokenization\n",
    "tokenizer = Tokenizer(num_words=5000)\n",
    "tokenizer.fit_on_texts(df['cleaned_content'])\n",
    "\n",
    "# Convert texts to sequences\n",
    "sequences = tokenizer.texts_to_sequences(df['cleaned_content'])\n",
    "padded_sequences = pad_sequences(sequences, maxlen=100)\n",
    "\n",
    "# Prepare labels\n",
    "labels = df['label']\n",
    "\n",
    "# Split the data\n",
    "X_train, X_test, y_train, y_test = train_test_split(padded_sequences, labels, test_size=0.3, stratify=labels, random_state=42)\n",
    "\n",
    "\n"
   ]
  },
  {
   "cell_type": "code",
   "execution_count": 9,
   "metadata": {},
   "outputs": [
    {
     "name": "stderr",
     "output_type": "stream",
     "text": [
      "c:\\Users\\Predator\\AppData\\Local\\Programs\\Python\\Python311\\Lib\\site-packages\\keras\\src\\layers\\core\\embedding.py:90: UserWarning: Argument `input_length` is deprecated. Just remove it.\n",
      "  warnings.warn(\n"
     ]
    },
    {
     "name": "stdout",
     "output_type": "stream",
     "text": [
      "Epoch 1/10\n",
      "\u001b[1m180/180\u001b[0m \u001b[32m━━━━━━━━━━━━━━━━━━━━\u001b[0m\u001b[37m\u001b[0m \u001b[1m29s\u001b[0m 103ms/step - accuracy: 0.8175 - loss: 0.4669 - val_accuracy: 0.8354 - val_loss: 0.3679\n",
      "Epoch 2/10\n",
      "\u001b[1m180/180\u001b[0m \u001b[32m━━━━━━━━━━━━━━━━━━━━\u001b[0m\u001b[37m\u001b[0m \u001b[1m20s\u001b[0m 109ms/step - accuracy: 0.8362 - loss: 0.1027 - val_accuracy: 0.8250 - val_loss: 0.5678\n",
      "Epoch 3/10\n",
      "\u001b[1m180/180\u001b[0m \u001b[32m━━━━━━━━━━━━━━━━━━━━\u001b[0m\u001b[37m\u001b[0m \u001b[1m19s\u001b[0m 103ms/step - accuracy: 0.8451 - loss: -2.7944 - val_accuracy: 0.8291 - val_loss: -1.9332\n",
      "Epoch 4/10\n",
      "\u001b[1m180/180\u001b[0m \u001b[32m━━━━━━━━━━━━━━━━━━━━\u001b[0m\u001b[37m\u001b[0m \u001b[1m19s\u001b[0m 104ms/step - accuracy: 0.8503 - loss: -15.8836 - val_accuracy: 0.8033 - val_loss: 9.0486\n",
      "Epoch 5/10\n",
      "\u001b[1m180/180\u001b[0m \u001b[32m━━━━━━━━━━━━━━━━━━━━\u001b[0m\u001b[37m\u001b[0m \u001b[1m18s\u001b[0m 100ms/step - accuracy: 0.8575 - loss: -41.2634 - val_accuracy: 0.8361 - val_loss: -14.7751\n",
      "Epoch 6/10\n",
      "\u001b[1m180/180\u001b[0m \u001b[32m━━━━━━━━━━━━━━━━━━━━\u001b[0m\u001b[37m\u001b[0m \u001b[1m20s\u001b[0m 113ms/step - accuracy: 0.8661 - loss: -98.7279 - val_accuracy: 0.8285 - val_loss: -29.7765\n",
      "Epoch 7/10\n",
      "\u001b[1m180/180\u001b[0m \u001b[32m━━━━━━━━━━━━━━━━━━━━\u001b[0m\u001b[37m\u001b[0m \u001b[1m20s\u001b[0m 110ms/step - accuracy: 0.8782 - loss: -168.4618 - val_accuracy: 0.8354 - val_loss: -7.1482\n",
      "Epoch 8/10\n",
      "\u001b[1m180/180\u001b[0m \u001b[32m━━━━━━━━━━━━━━━━━━━━\u001b[0m\u001b[37m\u001b[0m \u001b[1m19s\u001b[0m 105ms/step - accuracy: 0.8720 - loss: -287.8315 - val_accuracy: 0.8236 - val_loss: -9.7941\n",
      "Epoch 9/10\n",
      "\u001b[1m180/180\u001b[0m \u001b[32m━━━━━━━━━━━━━━━━━━━━\u001b[0m\u001b[37m\u001b[0m \u001b[1m19s\u001b[0m 103ms/step - accuracy: 0.8747 - loss: -433.4865 - val_accuracy: 0.8354 - val_loss: -42.9457\n",
      "Epoch 10/10\n",
      "\u001b[1m180/180\u001b[0m \u001b[32m━━━━━━━━━━━━━━━━━━━━\u001b[0m\u001b[37m\u001b[0m \u001b[1m19s\u001b[0m 107ms/step - accuracy: 0.8742 - loss: -614.4349 - val_accuracy: 0.8291 - val_loss: -83.0386\n",
      "\u001b[1m97/97\u001b[0m \u001b[32m━━━━━━━━━━━━━━━━━━━━\u001b[0m\u001b[37m\u001b[0m \u001b[1m4s\u001b[0m 39ms/step - accuracy: 0.8123 - loss: -8.0349\n",
      "Test Accuracy: 0.8232997059822083\n"
     ]
    },
    {
     "data": {
      "image/png": "[encoded data removed]",
      "text/plain": [
       "<Figure size 1200x400 with 2 Axes>"
      ]
     },
     "metadata": {},
     "output_type": "display_data"
    }
   ],
   "source": [
    "# Model Creation\n",
    "model = Sequential([\n",
    "    Embedding(input_dim=5000, output_dim=128, input_length=100),\n",
    "    Conv1D(filters=128, kernel_size=5, activation='relu'),\n",
    "    MaxPooling1D(pool_size=2),\n",
    "    Bidirectional(LSTM(128, return_sequences=True)),\n",
    "    Bidirectional(LSTM(128)),\n",
    "    Dense(128, activation='relu'),\n",
    "    Dropout(0.5),\n",
    "    Dense(1, activation='sigmoid'), # Use 'softmax' for multi-class classification\n",
    "    ])\n",
    "\n",
    "# Model Compilation\n",
    "model.compile(optimizer='adam', loss='binary_crossentropy', metrics=['accuracy'])\n",
    "\n",
    "# Model Training\n",
    "history = model.fit(X_train, y_train, epochs=10, batch_size=32, validation_split=0.2)\n",
    "\n",
    "# Model Evaluation\n",
    "loss, accuracy = model.evaluate(X_test, y_test)\n",
    "print(f'Test Accuracy: {accuracy}')\n",
    "\n",
    "# Plot training & validation accuracy and loss values\n",
    "plt.figure(figsize=(12, 4))\n",
    "\n",
    "plt.subplot(1, 2, 1)\n",
    "plt.plot(history.history['accuracy'])\n",
    "plt.plot(history.history['val_accuracy'])\n",
    "plt.title('Model accuracy')\n",
    "plt.ylabel('Accuracy')\n",
    "plt.xlabel('Epoch')\n",
    "plt.legend(['Train', 'Validation'], loc='upper left')\n",
    "\n",
    "plt.subplot(1, 2, 2)\n",
    "plt.plot(history.history['loss'])\n",
    "plt.plot(history.history['val_loss'])\n",
    "plt.title('Model loss')\n",
    "plt.ylabel('Loss')\n",
    "plt.xlabel('Epoch')\n",
    "plt.legend(['Train', 'Validation'], loc='upper left')\n",
    "\n",
    "plt.show()"
   ]
  },
  {
   "cell_type": "code",
   "execution_count": 13,
   "metadata": {},
   "outputs": [
    {
     "name": "stdout",
     "output_type": "stream",
     "text": [
      "Model saved as saved_models/model_20240824_211531.keras\n"
     ]
    }
   ],
   "source": [
    "from datetime import datetime\n",
    "import os\n",
    "\n",
    "# Assuming `model` is your Keras model\n",
    "timestamp = datetime.now().strftime(\"%Y%m%d_%H%M%S\")\n",
    "file_name = f'saved_models/model_{timestamp}.keras'\n",
    "\n",
    "# Make sure the directory exists\n",
    "os.makedirs(os.path.dirname(file_name), exist_ok=True)\n",
    "\n",
    "# Save the model with the unique file name\n",
    "model.save(file_name)\n",
    "print(f\"Model saved as {file_name}\")\n"
   ]
  },
  {
   "cell_type": "code",
   "execution_count": 12,
   "metadata": {},
   "outputs": [
    {
     "name": "stdout",
     "output_type": "stream",
     "text": [
      "\u001b[1m1/1\u001b[0m \u001b[32m━━━━━━━━━━━━━━━━━━━━\u001b[0m\u001b[37m\u001b[0m \u001b[1m0s\u001b[0m 63ms/step\n",
      "Review: The hotel staff was incredibly helpful and the room was clean and spacious. Definitely a positive experience!\n",
      "Review Score: 1.0\n",
      "Predicted Label: 0 Negative\n",
      "Predicted Normalized Score: 0.71\n",
      "--------------------------------------------------\n",
      "Review: The location was good, but the room had a strange smell and the service was just okay.\n",
      "Review Score: 0.6\n",
      "Predicted Label: 0 Negative\n",
      "Predicted Normalized Score: 0.74\n",
      "--------------------------------------------------\n",
      "Review: I had a terrible stay. The room was dirty and the staff was rude. Not worth the price.\n",
      "Review Score: 0.2\n",
      "Predicted Label: -1 Negative\n",
      "Predicted Normalized Score: 0.00\n",
      "--------------------------------------------------\n",
      "Review: Amazing experience! The view from the room was breathtaking and the food at the restaurant was top-notch.\n",
      "Review Score: 1.0\n",
      "Predicted Label: 1 Positive\n",
      "Predicted Normalized Score: 0.94\n",
      "--------------------------------------------------\n",
      "Review: The room was decent, but the Wi-Fi was slow and unreliable. It was an average stay overall.\n",
      "Review Score: 0.5\n",
      "Predicted Label: 0 Negative\n",
      "Predicted Normalized Score: 0.33\n",
      "--------------------------------------------------\n",
      "Review: Terrible service! We waited over an hour for our room to be ready and the staff was not apologetic.\n",
      "Review Score: 0.3\n",
      "Predicted Label: -1 Negative\n",
      "Predicted Normalized Score: 0.00\n",
      "--------------------------------------------------\n",
      "Review: The hotel was in a perfect location, close to all the major attractions. The room was comfortable and well-maintained.\n",
      "Review Score: 0.9\n",
      "Predicted Label: 1 Positive\n",
      "Predicted Normalized Score: 0.95\n",
      "--------------------------------------------------\n",
      "Review: The facilities were outdated, and the air conditioning barely worked. I was disappointed with my stay.\n",
      "Review Score: 0.4\n",
      "Predicted Label: 1 Positive\n",
      "Predicted Normalized Score: 0.93\n",
      "--------------------------------------------------\n",
      "Review: Great value for money! The hotel offered a lot of amenities and the staff was very friendly.\n",
      "Review Score: 0.8\n",
      "Predicted Label: 1 Positive\n",
      "Predicted Normalized Score: 0.95\n",
      "--------------------------------------------------\n",
      "Review: The breakfast was good, but the room was small and the bed was uncomfortable. It was an okay stay.\n",
      "Review Score: 0.6\n",
      "Predicted Label: 0 Negative\n",
      "Predicted Normalized Score: 0.38\n",
      "--------------------------------------------------\n"
     ]
    }
   ],
   "source": [
    "import numpy as np\n",
    "from tensorflow.keras.preprocessing.sequence import pad_sequences\n",
    "\n",
    "# Example input reviews\n",
    "new_reviews = [\n",
    "    {\"review\": \"The hotel staff was incredibly helpful and the room was clean and spacious. Definitely a positive experience!\", \"score\": 1.0},\n",
    "    {\"review\": \"The location was good, but the room had a strange smell and the service was just okay.\", \"score\": 0.6},\n",
    "    {\"review\": \"I had a terrible stay. The room was dirty and the staff was rude. Not worth the price.\", \"score\": 0.2},\n",
    "    {\"review\": \"Amazing experience! The view from the room was breathtaking and the food at the restaurant was top-notch.\", \"score\": 1.0},\n",
    "    {\"review\": \"The room was decent, but the Wi-Fi was slow and unreliable. It was an average stay overall.\", \"score\": 0.5},\n",
    "    {\"review\": \"Terrible service! We waited over an hour for our room to be ready and the staff was not apologetic.\", \"score\": 0.3},\n",
    "    {\"review\": \"The hotel was in a perfect location, close to all the major attractions. The room was comfortable and well-maintained.\", \"score\": 0.9},\n",
    "    {\"review\": \"The facilities were outdated, and the air conditioning barely worked. I was disappointed with my stay.\", \"score\": 0.4},\n",
    "    {\"review\": \"Great value for money! The hotel offered a lot of amenities and the staff was very friendly.\", \"score\": 0.8},\n",
    "    {\"review\": \"The breakfast was good, but the room was small and the bed was uncomfortable. It was an okay stay.\", \"score\": 0.6}\n",
    "]\n",
    "\n",
    "\n",
    "\n",
    "# Define a function to preprocess new input data\n",
    "def preprocess_new_data(new_data):\n",
    "    # Apply the same preprocessing function\n",
    "    cleaned_data = [preprocess_text(text) for text in new_data]\n",
    "    \n",
    "    # Convert to sequences using the trained tokenizer\n",
    "    sequences = tokenizer.texts_to_sequences(cleaned_data)\n",
    "    \n",
    "    # Pad the sequences\n",
    "    padded_sequences = pad_sequences(sequences, maxlen=100)  # Use the same maxlen as your training data\n",
    "\n",
    "    return padded_sequences\n",
    "\n",
    "review_content = [entry[\"review\"] for entry in new_reviews]\n",
    "padded_sequences =  preprocess_new_data(review_content)\n",
    "\n",
    "# Make predictions\n",
    "predictions = model.predict(padded_sequences)\n",
    "\n",
    "# Interpreting the predictions\n",
    "for i, prediction in enumerate(predictions):\n",
    "    predicted_label = -1 if prediction <= 0.25 else (1 if prediction >= 0.75 else 0)\n",
    "    predicted_score = prediction[0]  # For a continuous score\n",
    "    print(f\"Review: {new_reviews[i]['review']}\")\n",
    "    print(f\"Review Score: {new_reviews[i]['score']}\")\n",
    "    print(f\"Predicted Label: {predicted_label} {'Positive' if predicted_label == 1 else 'Negative'}\")\n",
    "    print(f\"Predicted Normalized Score: {predicted_score:.2f}\")\n",
    "    print(\"-\" * 50)\n"
   ]
  },
  {
   "cell_type": "code",
   "execution_count": 11,
   "metadata": {},
   "outputs": [
    {
     "data": {
      "text/html": [
       "<pre style=\"white-space:pre;overflow-x:auto;line-height:normal;font-family:Menlo,'DejaVu Sans Mono',consolas,'Courier New',monospace\"><span style=\"font-weight: bold\">Model: \"sequential\"</span>\n",
       "</pre>\n"
      ],
      "text/plain": [
       "\u001b[1mModel: \"sequential\"\u001b[0m\n"
      ]
     },
     "metadata": {},
     "output_type": "display_data"
    },
    {
     "data": {
      "text/html": [
       "<pre style=\"white-space:pre;overflow-x:auto;line-height:normal;font-family:Menlo,'DejaVu Sans Mono',consolas,'Courier New',monospace\">┏━━━━━━━━━━━━━━━━━━━━━━━━━━━━━━━━━┳━━━━━━━━━━━━━━━━━━━━━━━━┳━━━━━━━━━━━━━━━┓\n",
       "┃<span style=\"font-weight: bold\"> Layer (type)                    </span>┃<span style=\"font-weight: bold\"> Output Shape           </span>┃<span style=\"font-weight: bold\">       Param # </span>┃\n",
       "┡━━━━━━━━━━━━━━━━━━━━━━━━━━━━━━━━━╇━━━━━━━━━━━━━━━━━━━━━━━━╇━━━━━━━━━━━━━━━┩\n",
       "│ embedding (<span style=\"color: #0087ff; text-decoration-color: #0087ff\">Embedding</span>)           │ (<span style=\"color: #00d7ff; text-decoration-color: #00d7ff\">None</span>, <span style=\"color: #00af00; text-decoration-color: #00af00\">100</span>, <span style=\"color: #00af00; text-decoration-color: #00af00\">128</span>)       │       <span style=\"color: #00af00; text-decoration-color: #00af00\">640,000</span> │\n",
       "├─────────────────────────────────┼────────────────────────┼───────────────┤\n",
       "│ conv1d (<span style=\"color: #0087ff; text-decoration-color: #0087ff\">Conv1D</span>)                 │ (<span style=\"color: #00d7ff; text-decoration-color: #00d7ff\">None</span>, <span style=\"color: #00af00; text-decoration-color: #00af00\">96</span>, <span style=\"color: #00af00; text-decoration-color: #00af00\">128</span>)        │        <span style=\"color: #00af00; text-decoration-color: #00af00\">82,048</span> │\n",
       "├─────────────────────────────────┼────────────────────────┼───────────────┤\n",
       "│ max_pooling1d (<span style=\"color: #0087ff; text-decoration-color: #0087ff\">MaxPooling1D</span>)    │ (<span style=\"color: #00d7ff; text-decoration-color: #00d7ff\">None</span>, <span style=\"color: #00af00; text-decoration-color: #00af00\">48</span>, <span style=\"color: #00af00; text-decoration-color: #00af00\">128</span>)        │             <span style=\"color: #00af00; text-decoration-color: #00af00\">0</span> │\n",
       "├─────────────────────────────────┼────────────────────────┼───────────────┤\n",
       "│ bidirectional (<span style=\"color: #0087ff; text-decoration-color: #0087ff\">Bidirectional</span>)   │ (<span style=\"color: #00d7ff; text-decoration-color: #00d7ff\">None</span>, <span style=\"color: #00af00; text-decoration-color: #00af00\">48</span>, <span style=\"color: #00af00; text-decoration-color: #00af00\">256</span>)        │       <span style=\"color: #00af00; text-decoration-color: #00af00\">263,168</span> │\n",
       "├─────────────────────────────────┼────────────────────────┼───────────────┤\n",
       "│ bidirectional_1 (<span style=\"color: #0087ff; text-decoration-color: #0087ff\">Bidirectional</span>) │ (<span style=\"color: #00d7ff; text-decoration-color: #00d7ff\">None</span>, <span style=\"color: #00af00; text-decoration-color: #00af00\">256</span>)            │       <span style=\"color: #00af00; text-decoration-color: #00af00\">394,240</span> │\n",
       "├─────────────────────────────────┼────────────────────────┼───────────────┤\n",
       "│ dense (<span style=\"color: #0087ff; text-decoration-color: #0087ff\">Dense</span>)                   │ (<span style=\"color: #00d7ff; text-decoration-color: #00d7ff\">None</span>, <span style=\"color: #00af00; text-decoration-color: #00af00\">128</span>)            │        <span style=\"color: #00af00; text-decoration-color: #00af00\">32,896</span> │\n",
       "├─────────────────────────────────┼────────────────────────┼───────────────┤\n",
       "│ dropout (<span style=\"color: #0087ff; text-decoration-color: #0087ff\">Dropout</span>)               │ (<span style=\"color: #00d7ff; text-decoration-color: #00d7ff\">None</span>, <span style=\"color: #00af00; text-decoration-color: #00af00\">128</span>)            │             <span style=\"color: #00af00; text-decoration-color: #00af00\">0</span> │\n",
       "├─────────────────────────────────┼────────────────────────┼───────────────┤\n",
       "│ dense_1 (<span style=\"color: #0087ff; text-decoration-color: #0087ff\">Dense</span>)                 │ (<span style=\"color: #00d7ff; text-decoration-color: #00d7ff\">None</span>, <span style=\"color: #00af00; text-decoration-color: #00af00\">1</span>)              │           <span style=\"color: #00af00; text-decoration-color: #00af00\">129</span> │\n",
       "└─────────────────────────────────┴────────────────────────┴───────────────┘\n",
       "</pre>\n"
      ],
      "text/plain": [
       "┏━━━━━━━━━━━━━━━━━━━━━━━━━━━━━━━━━┳━━━━━━━━━━━━━━━━━━━━━━━━┳━━━━━━━━━━━━━━━┓\n",
       "┃\u001b[1m \u001b[0m\u001b[1mLayer (type)                   \u001b[0m\u001b[1m \u001b[0m┃\u001b[1m \u001b[0m\u001b[1mOutput Shape          \u001b[0m\u001b[1m \u001b[0m┃\u001b[1m \u001b[0m\u001b[1m      Param #\u001b[0m\u001b[1m \u001b[0m┃\n",
       "┡━━━━━━━━━━━━━━━━━━━━━━━━━━━━━━━━━╇━━━━━━━━━━━━━━━━━━━━━━━━╇━━━━━━━━━━━━━━━┩\n",
       "│ embedding (\u001b[38;5;33mEmbedding\u001b[0m)           │ (\u001b[38;5;45mNone\u001b[0m, \u001b[38;5;34m100\u001b[0m, \u001b[38;5;34m128\u001b[0m)       │       \u001b[38;5;34m640,000\u001b[0m │\n",
       "├─────────────────────────────────┼────────────────────────┼───────────────┤\n",
       "│ conv1d (\u001b[38;5;33mConv1D\u001b[0m)                 │ (\u001b[38;5;45mNone\u001b[0m, \u001b[38;5;34m96\u001b[0m, \u001b[38;5;34m128\u001b[0m)        │        \u001b[38;5;34m82,048\u001b[0m │\n",
       "├─────────────────────────────────┼────────────────────────┼───────────────┤\n",
       "│ max_pooling1d (\u001b[38;5;33mMaxPooling1D\u001b[0m)    │ (\u001b[38;5;45mNone\u001b[0m, \u001b[38;5;34m48\u001b[0m, \u001b[38;5;34m128\u001b[0m)        │             \u001b[38;5;34m0\u001b[0m │\n",
       "├─────────────────────────────────┼────────────────────────┼───────────────┤\n",
       "│ bidirectional (\u001b[38;5;33mBidirectional\u001b[0m)   │ (\u001b[38;5;45mNone\u001b[0m, \u001b[38;5;34m48\u001b[0m, \u001b[38;5;34m256\u001b[0m)        │       \u001b[38;5;34m263,168\u001b[0m │\n",
       "├─────────────────────────────────┼────────────────────────┼───────────────┤\n",
       "│ bidirectional_1 (\u001b[38;5;33mBidirectional\u001b[0m) │ (\u001b[38;5;45mNone\u001b[0m, \u001b[38;5;34m256\u001b[0m)            │       \u001b[38;5;34m394,240\u001b[0m │\n",
       "├─────────────────────────────────┼────────────────────────┼───────────────┤\n",
       "│ dense (\u001b[38;5;33mDense\u001b[0m)                   │ (\u001b[38;5;45mNone\u001b[0m, \u001b[38;5;34m128\u001b[0m)            │        \u001b[38;5;34m32,896\u001b[0m │\n",
       "├─────────────────────────────────┼────────────────────────┼───────────────┤\n",
       "│ dropout (\u001b[38;5;33mDropout\u001b[0m)               │ (\u001b[38;5;45mNone\u001b[0m, \u001b[38;5;34m128\u001b[0m)            │             \u001b[38;5;34m0\u001b[0m │\n",
       "├─────────────────────────────────┼────────────────────────┼───────────────┤\n",
       "│ dense_1 (\u001b[38;5;33mDense\u001b[0m)                 │ (\u001b[38;5;45mNone\u001b[0m, \u001b[38;5;34m1\u001b[0m)              │           \u001b[38;5;34m129\u001b[0m │\n",
       "└─────────────────────────────────┴────────────────────────┴───────────────┘\n"
      ]
     },
     "metadata": {},
     "output_type": "display_data"
    },
    {
     "data": {
      "text/html": [
       "<pre style=\"white-space:pre;overflow-x:auto;line-height:normal;font-family:Menlo,'DejaVu Sans Mono',consolas,'Courier New',monospace\"><span style=\"font-weight: bold\"> Total params: </span><span style=\"color: #00af00; text-decoration-color: #00af00\">4,237,445</span> (16.16 MB)\n",
       "</pre>\n"
      ],
      "text/plain": [
       "\u001b[1m Total params: \u001b[0m\u001b[38;5;34m4,237,445\u001b[0m (16.16 MB)\n"
      ]
     },
     "metadata": {},
     "output_type": "display_data"
    },
    {
     "data": {
      "text/html": [
       "<pre style=\"white-space:pre;overflow-x:auto;line-height:normal;font-family:Menlo,'DejaVu Sans Mono',consolas,'Courier New',monospace\"><span style=\"font-weight: bold\"> Trainable params: </span><span style=\"color: #00af00; text-decoration-color: #00af00\">1,412,481</span> (5.39 MB)\n",
       "</pre>\n"
      ],
      "text/plain": [
       "\u001b[1m Trainable params: \u001b[0m\u001b[38;5;34m1,412,481\u001b[0m (5.39 MB)\n"
      ]
     },
     "metadata": {},
     "output_type": "display_data"
    },
    {
     "data": {
      "text/html": [
       "<pre style=\"white-space:pre;overflow-x:auto;line-height:normal;font-family:Menlo,'DejaVu Sans Mono',consolas,'Courier New',monospace\"><span style=\"font-weight: bold\"> Non-trainable params: </span><span style=\"color: #00af00; text-decoration-color: #00af00\">0</span> (0.00 B)\n",
       "</pre>\n"
      ],
      "text/plain": [
       "\u001b[1m Non-trainable params: \u001b[0m\u001b[38;5;34m0\u001b[0m (0.00 B)\n"
      ]
     },
     "metadata": {},
     "output_type": "display_data"
    },
    {
     "data": {
      "text/html": [
       "<pre style=\"white-space:pre;overflow-x:auto;line-height:normal;font-family:Menlo,'DejaVu Sans Mono',consolas,'Courier New',monospace\"><span style=\"font-weight: bold\"> Optimizer params: </span><span style=\"color: #00af00; text-decoration-color: #00af00\">2,824,964</span> (10.78 MB)\n",
       "</pre>\n"
      ],
      "text/plain": [
       "\u001b[1m Optimizer params: \u001b[0m\u001b[38;5;34m2,824,964\u001b[0m (10.78 MB)\n"
      ]
     },
     "metadata": {},
     "output_type": "display_data"
    }
   ],
   "source": [
    "model.summary()"
   ]
  }
 ],
 "metadata": {
  "kernelspec": {
   "display_name": "Python 3",
   "language": "python",
   "name": "python3"
  },
  "language_info": {
   "codemirror_mode": {
    "name": "ipython",
    "version": 3
   },
   "file_extension": ".py",
   "mimetype": "text/x-python",
   "name": "python",
   "nbconvert_exporter": "python",
   "pygments_lexer": "ipython3",
   "version": "3.11.5"
  }
 },
 "nbformat": 4,
 "nbformat_minor": 2
}
