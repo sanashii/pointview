{
 "cells": [
  {
   "cell_type": "code",
   "execution_count": null,
   "metadata": {},
   "outputs": [],
   "source": [
    "import os\n",
    "def remove_model(file_path):\n",
    "    try:\n",
    "        if os.path.exists(file_path):\n",
    "            os.remove(file_path)\n",
    "            print(f\"File {file_path} has been removed successfully.\")\n",
    "        else:\n",
    "            print(f\"File {file_path} does not exist.\")\n",
    "    except Exception as e:\n",
    "        print(f\"An error occurred while trying to remove the file: {e}\")\n",
    "\n",
    "# Example usage\n",
    "model_file_path = 'sentiment_model.h5'\n",
    "remove_model(model_file_path)\n"
   ]
  }
 ],
 "metadata": {
  "language_info": {
   "name": "python"
  }
 },
 "nbformat": 4,
 "nbformat_minor": 2
}
